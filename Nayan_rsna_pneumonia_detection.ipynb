{
 "cells": [
  {
   "cell_type": "code",
   "execution_count": null,
   "metadata": {},
   "outputs": [],
   "source": [
    "NAYAN SONAWANE"
   ]
  },
  {
   "cell_type": "code",
   "execution_count": 1,
   "metadata": {
    "colab": {
     "base_uri": "https://localhost:8080/"
    },
    "executionInfo": {
     "elapsed": 20907,
     "status": "ok",
     "timestamp": 1648356606486,
     "user": {
      "displayName": "Hrishikesh K",
      "photoUrl": "https://lh3.googleusercontent.com/a/default-user=s64",
      "userId": "17100987462167337479"
     },
     "user_tz": -330
    },
    "id": "tA57TGos4mtN",
    "outputId": "54e61ff5-50d9-48d1-971a-22e7f631c71f"
   },
   "outputs": [
    {
     "name": "stdout",
     "output_type": "stream",
     "text": [
      "\u001b[?25l\r\u001b[K     |▏                               | 10 kB 23.0 MB/s eta 0:00:01\r\u001b[K     |▍                               | 20 kB 13.0 MB/s eta 0:00:01\r\u001b[K     |▌                               | 30 kB 9.8 MB/s eta 0:00:01\r\u001b[K     |▊                               | 40 kB 8.8 MB/s eta 0:00:01\r\u001b[K     |▉                               | 51 kB 4.2 MB/s eta 0:00:01\r\u001b[K     |█                               | 61 kB 5.0 MB/s eta 0:00:01\r\u001b[K     |█▏                              | 71 kB 5.6 MB/s eta 0:00:01\r\u001b[K     |█▍                              | 81 kB 4.1 MB/s eta 0:00:01\r\u001b[K     |█▌                              | 92 kB 4.5 MB/s eta 0:00:01\r\u001b[K     |█▊                              | 102 kB 5.0 MB/s eta 0:00:01\r\u001b[K     |█▉                              | 112 kB 5.0 MB/s eta 0:00:01\r\u001b[K     |██                              | 122 kB 5.0 MB/s eta 0:00:01\r\u001b[K     |██▏                             | 133 kB 5.0 MB/s eta 0:00:01\r\u001b[K     |██▍                             | 143 kB 5.0 MB/s eta 0:00:01\r\u001b[K     |██▌                             | 153 kB 5.0 MB/s eta 0:00:01\r\u001b[K     |██▊                             | 163 kB 5.0 MB/s eta 0:00:01\r\u001b[K     |██▉                             | 174 kB 5.0 MB/s eta 0:00:01\r\u001b[K     |███                             | 184 kB 5.0 MB/s eta 0:00:01\r\u001b[K     |███▏                            | 194 kB 5.0 MB/s eta 0:00:01\r\u001b[K     |███▍                            | 204 kB 5.0 MB/s eta 0:00:01\r\u001b[K     |███▌                            | 215 kB 5.0 MB/s eta 0:00:01\r\u001b[K     |███▊                            | 225 kB 5.0 MB/s eta 0:00:01\r\u001b[K     |███▉                            | 235 kB 5.0 MB/s eta 0:00:01\r\u001b[K     |████                            | 245 kB 5.0 MB/s eta 0:00:01\r\u001b[K     |████▏                           | 256 kB 5.0 MB/s eta 0:00:01\r\u001b[K     |████▍                           | 266 kB 5.0 MB/s eta 0:00:01\r\u001b[K     |████▌                           | 276 kB 5.0 MB/s eta 0:00:01\r\u001b[K     |████▊                           | 286 kB 5.0 MB/s eta 0:00:01\r\u001b[K     |████▉                           | 296 kB 5.0 MB/s eta 0:00:01\r\u001b[K     |█████                           | 307 kB 5.0 MB/s eta 0:00:01\r\u001b[K     |█████▏                          | 317 kB 5.0 MB/s eta 0:00:01\r\u001b[K     |█████▍                          | 327 kB 5.0 MB/s eta 0:00:01\r\u001b[K     |█████▌                          | 337 kB 5.0 MB/s eta 0:00:01\r\u001b[K     |█████▊                          | 348 kB 5.0 MB/s eta 0:00:01\r\u001b[K     |█████▉                          | 358 kB 5.0 MB/s eta 0:00:01\r\u001b[K     |██████                          | 368 kB 5.0 MB/s eta 0:00:01\r\u001b[K     |██████▏                         | 378 kB 5.0 MB/s eta 0:00:01\r\u001b[K     |██████▍                         | 389 kB 5.0 MB/s eta 0:00:01\r\u001b[K     |██████▌                         | 399 kB 5.0 MB/s eta 0:00:01\r\u001b[K     |██████▊                         | 409 kB 5.0 MB/s eta 0:00:01\r\u001b[K     |██████▉                         | 419 kB 5.0 MB/s eta 0:00:01\r\u001b[K     |███████                         | 430 kB 5.0 MB/s eta 0:00:01\r\u001b[K     |███████▎                        | 440 kB 5.0 MB/s eta 0:00:01\r\u001b[K     |███████▍                        | 450 kB 5.0 MB/s eta 0:00:01\r\u001b[K     |███████▋                        | 460 kB 5.0 MB/s eta 0:00:01\r\u001b[K     |███████▊                        | 471 kB 5.0 MB/s eta 0:00:01\r\u001b[K     |████████                        | 481 kB 5.0 MB/s eta 0:00:01\r\u001b[K     |████████                        | 491 kB 5.0 MB/s eta 0:00:01\r\u001b[K     |████████▎                       | 501 kB 5.0 MB/s eta 0:00:01\r\u001b[K     |████████▍                       | 512 kB 5.0 MB/s eta 0:00:01\r\u001b[K     |████████▋                       | 522 kB 5.0 MB/s eta 0:00:01\r\u001b[K     |████████▊                       | 532 kB 5.0 MB/s eta 0:00:01\r\u001b[K     |█████████                       | 542 kB 5.0 MB/s eta 0:00:01\r\u001b[K     |█████████                       | 552 kB 5.0 MB/s eta 0:00:01\r\u001b[K     |█████████▎                      | 563 kB 5.0 MB/s eta 0:00:01\r\u001b[K     |█████████▍                      | 573 kB 5.0 MB/s eta 0:00:01\r\u001b[K     |█████████▋                      | 583 kB 5.0 MB/s eta 0:00:01\r\u001b[K     |█████████▊                      | 593 kB 5.0 MB/s eta 0:00:01\r\u001b[K     |██████████                      | 604 kB 5.0 MB/s eta 0:00:01\r\u001b[K     |██████████                      | 614 kB 5.0 MB/s eta 0:00:01\r\u001b[K     |██████████▎                     | 624 kB 5.0 MB/s eta 0:00:01\r\u001b[K     |██████████▍                     | 634 kB 5.0 MB/s eta 0:00:01\r\u001b[K     |██████████▋                     | 645 kB 5.0 MB/s eta 0:00:01\r\u001b[K     |██████████▊                     | 655 kB 5.0 MB/s eta 0:00:01\r\u001b[K     |███████████                     | 665 kB 5.0 MB/s eta 0:00:01\r\u001b[K     |███████████                     | 675 kB 5.0 MB/s eta 0:00:01\r\u001b[K     |███████████▎                    | 686 kB 5.0 MB/s eta 0:00:01\r\u001b[K     |███████████▍                    | 696 kB 5.0 MB/s eta 0:00:01\r\u001b[K     |███████████▋                    | 706 kB 5.0 MB/s eta 0:00:01\r\u001b[K     |███████████▊                    | 716 kB 5.0 MB/s eta 0:00:01\r\u001b[K     |████████████                    | 727 kB 5.0 MB/s eta 0:00:01\r\u001b[K     |████████████                    | 737 kB 5.0 MB/s eta 0:00:01\r\u001b[K     |████████████▎                   | 747 kB 5.0 MB/s eta 0:00:01\r\u001b[K     |████████████▍                   | 757 kB 5.0 MB/s eta 0:00:01\r\u001b[K     |████████████▋                   | 768 kB 5.0 MB/s eta 0:00:01\r\u001b[K     |████████████▊                   | 778 kB 5.0 MB/s eta 0:00:01\r\u001b[K     |█████████████                   | 788 kB 5.0 MB/s eta 0:00:01\r\u001b[K     |█████████████                   | 798 kB 5.0 MB/s eta 0:00:01\r\u001b[K     |█████████████▎                  | 808 kB 5.0 MB/s eta 0:00:01\r\u001b[K     |█████████████▍                  | 819 kB 5.0 MB/s eta 0:00:01\r\u001b[K     |█████████████▋                  | 829 kB 5.0 MB/s eta 0:00:01\r\u001b[K     |█████████████▊                  | 839 kB 5.0 MB/s eta 0:00:01\r\u001b[K     |██████████████                  | 849 kB 5.0 MB/s eta 0:00:01\r\u001b[K     |██████████████                  | 860 kB 5.0 MB/s eta 0:00:01\r\u001b[K     |██████████████▎                 | 870 kB 5.0 MB/s eta 0:00:01\r\u001b[K     |██████████████▌                 | 880 kB 5.0 MB/s eta 0:00:01\r\u001b[K     |██████████████▋                 | 890 kB 5.0 MB/s eta 0:00:01\r\u001b[K     |██████████████▉                 | 901 kB 5.0 MB/s eta 0:00:01\r\u001b[K     |███████████████                 | 911 kB 5.0 MB/s eta 0:00:01\r\u001b[K     |███████████████▏                | 921 kB 5.0 MB/s eta 0:00:01\r\u001b[K     |███████████████▎                | 931 kB 5.0 MB/s eta 0:00:01\r\u001b[K     |███████████████▌                | 942 kB 5.0 MB/s eta 0:00:01\r\u001b[K     |███████████████▋                | 952 kB 5.0 MB/s eta 0:00:01\r\u001b[K     |███████████████▉                | 962 kB 5.0 MB/s eta 0:00:01\r\u001b[K     |████████████████                | 972 kB 5.0 MB/s eta 0:00:01\r\u001b[K     |████████████████▏               | 983 kB 5.0 MB/s eta 0:00:01\r\u001b[K     |████████████████▎               | 993 kB 5.0 MB/s eta 0:00:01\r\u001b[K     |████████████████▌               | 1.0 MB 5.0 MB/s eta 0:00:01\r\u001b[K     |████████████████▋               | 1.0 MB 5.0 MB/s eta 0:00:01\r\u001b[K     |████████████████▉               | 1.0 MB 5.0 MB/s eta 0:00:01\r\u001b[K     |█████████████████               | 1.0 MB 5.0 MB/s eta 0:00:01\r\u001b[K     |█████████████████▏              | 1.0 MB 5.0 MB/s eta 0:00:01\r\u001b[K     |█████████████████▎              | 1.1 MB 5.0 MB/s eta 0:00:01\r\u001b[K     |█████████████████▌              | 1.1 MB 5.0 MB/s eta 0:00:01\r\u001b[K     |█████████████████▋              | 1.1 MB 5.0 MB/s eta 0:00:01\r\u001b[K     |█████████████████▉              | 1.1 MB 5.0 MB/s eta 0:00:01\r\u001b[K     |██████████████████              | 1.1 MB 5.0 MB/s eta 0:00:01\r\u001b[K     |██████████████████▏             | 1.1 MB 5.0 MB/s eta 0:00:01\r\u001b[K     |██████████████████▎             | 1.1 MB 5.0 MB/s eta 0:00:01\r\u001b[K     |██████████████████▌             | 1.1 MB 5.0 MB/s eta 0:00:01\r\u001b[K     |██████████████████▋             | 1.1 MB 5.0 MB/s eta 0:00:01\r\u001b[K     |██████████████████▉             | 1.1 MB 5.0 MB/s eta 0:00:01\r\u001b[K     |███████████████████             | 1.2 MB 5.0 MB/s eta 0:00:01\r\u001b[K     |███████████████████▏            | 1.2 MB 5.0 MB/s eta 0:00:01\r\u001b[K     |███████████████████▎            | 1.2 MB 5.0 MB/s eta 0:00:01\r\u001b[K     |███████████████████▌            | 1.2 MB 5.0 MB/s eta 0:00:01\r\u001b[K     |███████████████████▋            | 1.2 MB 5.0 MB/s eta 0:00:01\r\u001b[K     |███████████████████▉            | 1.2 MB 5.0 MB/s eta 0:00:01\r\u001b[K     |████████████████████            | 1.2 MB 5.0 MB/s eta 0:00:01\r\u001b[K     |████████████████████▏           | 1.2 MB 5.0 MB/s eta 0:00:01\r\u001b[K     |████████████████████▎           | 1.2 MB 5.0 MB/s eta 0:00:01\r\u001b[K     |████████████████████▌           | 1.2 MB 5.0 MB/s eta 0:00:01\r\u001b[K     |████████████████████▋           | 1.3 MB 5.0 MB/s eta 0:00:01\r\u001b[K     |████████████████████▉           | 1.3 MB 5.0 MB/s eta 0:00:01\r\u001b[K     |█████████████████████           | 1.3 MB 5.0 MB/s eta 0:00:01\r\u001b[K     |█████████████████████▏          | 1.3 MB 5.0 MB/s eta 0:00:01\r\u001b[K     |█████████████████████▎          | 1.3 MB 5.0 MB/s eta 0:00:01\r\u001b[K     |█████████████████████▌          | 1.3 MB 5.0 MB/s eta 0:00:01\r\u001b[K     |█████████████████████▊          | 1.3 MB 5.0 MB/s eta 0:00:01\r\u001b[K     |█████████████████████▉          | 1.3 MB 5.0 MB/s eta 0:00:01\r\u001b[K     |██████████████████████          | 1.3 MB 5.0 MB/s eta 0:00:01\r\u001b[K     |██████████████████████▏         | 1.4 MB 5.0 MB/s eta 0:00:01\r\u001b[K     |██████████████████████▍         | 1.4 MB 5.0 MB/s eta 0:00:01\r\u001b[K     |██████████████████████▌         | 1.4 MB 5.0 MB/s eta 0:00:01\r\u001b[K     |██████████████████████▊         | 1.4 MB 5.0 MB/s eta 0:00:01\r\u001b[K     |██████████████████████▉         | 1.4 MB 5.0 MB/s eta 0:00:01\r\u001b[K     |███████████████████████         | 1.4 MB 5.0 MB/s eta 0:00:01\r\u001b[K     |███████████████████████▏        | 1.4 MB 5.0 MB/s eta 0:00:01\r\u001b[K     |███████████████████████▍        | 1.4 MB 5.0 MB/s eta 0:00:01\r\u001b[K     |███████████████████████▌        | 1.4 MB 5.0 MB/s eta 0:00:01\r\u001b[K     |███████████████████████▊        | 1.4 MB 5.0 MB/s eta 0:00:01\r\u001b[K     |███████████████████████▉        | 1.5 MB 5.0 MB/s eta 0:00:01\r\u001b[K     |████████████████████████        | 1.5 MB 5.0 MB/s eta 0:00:01\r\u001b[K     |████████████████████████▏       | 1.5 MB 5.0 MB/s eta 0:00:01\r\u001b[K     |████████████████████████▍       | 1.5 MB 5.0 MB/s eta 0:00:01\r\u001b[K     |████████████████████████▌       | 1.5 MB 5.0 MB/s eta 0:00:01\r\u001b[K     |████████████████████████▊       | 1.5 MB 5.0 MB/s eta 0:00:01\r\u001b[K     |████████████████████████▉       | 1.5 MB 5.0 MB/s eta 0:00:01\r\u001b[K     |█████████████████████████       | 1.5 MB 5.0 MB/s eta 0:00:01\r\u001b[K     |█████████████████████████▏      | 1.5 MB 5.0 MB/s eta 0:00:01\r\u001b[K     |█████████████████████████▍      | 1.5 MB 5.0 MB/s eta 0:00:01\r\u001b[K     |█████████████████████████▌      | 1.6 MB 5.0 MB/s eta 0:00:01\r\u001b[K     |█████████████████████████▊      | 1.6 MB 5.0 MB/s eta 0:00:01\r\u001b[K     |█████████████████████████▉      | 1.6 MB 5.0 MB/s eta 0:00:01\r\u001b[K     |██████████████████████████      | 1.6 MB 5.0 MB/s eta 0:00:01\r\u001b[K     |██████████████████████████▏     | 1.6 MB 5.0 MB/s eta 0:00:01\r\u001b[K     |██████████████████████████▍     | 1.6 MB 5.0 MB/s eta 0:00:01\r\u001b[K     |██████████████████████████▌     | 1.6 MB 5.0 MB/s eta 0:00:01\r\u001b[K     |██████████████████████████▊     | 1.6 MB 5.0 MB/s eta 0:00:01\r\u001b[K     |██████████████████████████▉     | 1.6 MB 5.0 MB/s eta 0:00:01\r\u001b[K     |███████████████████████████     | 1.6 MB 5.0 MB/s eta 0:00:01\r\u001b[K     |███████████████████████████▏    | 1.7 MB 5.0 MB/s eta 0:00:01\r\u001b[K     |███████████████████████████▍    | 1.7 MB 5.0 MB/s eta 0:00:01\r\u001b[K     |███████████████████████████▌    | 1.7 MB 5.0 MB/s eta 0:00:01\r\u001b[K     |███████████████████████████▊    | 1.7 MB 5.0 MB/s eta 0:00:01\r\u001b[K     |███████████████████████████▉    | 1.7 MB 5.0 MB/s eta 0:00:01\r\u001b[K     |████████████████████████████    | 1.7 MB 5.0 MB/s eta 0:00:01\r\u001b[K     |████████████████████████████▏   | 1.7 MB 5.0 MB/s eta 0:00:01\r\u001b[K     |████████████████████████████▍   | 1.7 MB 5.0 MB/s eta 0:00:01\r\u001b[K     |████████████████████████████▌   | 1.7 MB 5.0 MB/s eta 0:00:01\r\u001b[K     |████████████████████████████▊   | 1.8 MB 5.0 MB/s eta 0:00:01\r\u001b[K     |█████████████████████████████   | 1.8 MB 5.0 MB/s eta 0:00:01\r\u001b[K     |█████████████████████████████   | 1.8 MB 5.0 MB/s eta 0:00:01\r\u001b[K     |█████████████████████████████▎  | 1.8 MB 5.0 MB/s eta 0:00:01\r\u001b[K     |█████████████████████████████▍  | 1.8 MB 5.0 MB/s eta 0:00:01\r\u001b[K     |█████████████████████████████▋  | 1.8 MB 5.0 MB/s eta 0:00:01\r\u001b[K     |█████████████████████████████▊  | 1.8 MB 5.0 MB/s eta 0:00:01\r\u001b[K     |██████████████████████████████  | 1.8 MB 5.0 MB/s eta 0:00:01\r\u001b[K     |██████████████████████████████  | 1.8 MB 5.0 MB/s eta 0:00:01\r\u001b[K     |██████████████████████████████▎ | 1.8 MB 5.0 MB/s eta 0:00:01\r\u001b[K     |██████████████████████████████▍ | 1.9 MB 5.0 MB/s eta 0:00:01\r\u001b[K     |██████████████████████████████▋ | 1.9 MB 5.0 MB/s eta 0:00:01\r\u001b[K     |██████████████████████████████▊ | 1.9 MB 5.0 MB/s eta 0:00:01\r\u001b[K     |███████████████████████████████ | 1.9 MB 5.0 MB/s eta 0:00:01\r\u001b[K     |███████████████████████████████ | 1.9 MB 5.0 MB/s eta 0:00:01\r\u001b[K     |███████████████████████████████▎| 1.9 MB 5.0 MB/s eta 0:00:01\r\u001b[K     |███████████████████████████████▍| 1.9 MB 5.0 MB/s eta 0:00:01\r\u001b[K     |███████████████████████████████▋| 1.9 MB 5.0 MB/s eta 0:00:01\r\u001b[K     |███████████████████████████████▊| 1.9 MB 5.0 MB/s eta 0:00:01\r\u001b[K     |████████████████████████████████| 1.9 MB 5.0 MB/s eta 0:00:01\r\u001b[K     |████████████████████████████████| 2.0 MB 5.0 MB/s \n",
      "\u001b[?25h"
     ]
    }
   ],
   "source": [
    "# install dependencies not included by Colab\n",
    "# use pip3 to ensure compatibility w/ Google Deep Learning Images \n",
    "!pip3 install -q pydicom \n",
    "!pip3 install -q tqdm \n",
    "!pip3 install -q imgaug"
   ]
  },
  {
   "cell_type": "code",
   "execution_count": null,
   "metadata": {},
   "outputs": [],
   "source": []
  },
  {
   "cell_type": "code",
   "execution_count": 2,
   "metadata": {
    "executionInfo": {
     "elapsed": 3534,
     "status": "ok",
     "timestamp": 1648356616386,
     "user": {
      "displayName": "Hrishikesh K",
      "photoUrl": "https://lh3.googleusercontent.com/a/default-user=s64",
      "userId": "17100987462167337479"
     },
     "user_tz": -330
    },
    "id": "4kjcC6QqywWl"
   },
   "outputs": [],
   "source": [
    "import os \n",
    "import sys\n",
    "import random\n",
    "import math\n",
    "import numpy as np\n",
    "import cv2\n",
    "import matplotlib.pyplot as plt\n",
    "import json\n",
    "import pydicom\n",
    "from imgaug import augmenters as iaa\n",
    "from tqdm import tqdm\n",
    "import pandas as pd \n",
    "import glob "
   ]
  },
  {
   "cell_type": "code",
   "execution_count": 3,
   "metadata": {
    "colab": {
     "base_uri": "https://localhost:8080/"
    },
    "executionInfo": {
     "elapsed": 22612,
     "status": "ok",
     "timestamp": 1648356640626,
     "user": {
      "displayName": "Hrishikesh K",
      "photoUrl": "https://lh3.googleusercontent.com/a/default-user=s64",
      "userId": "17100987462167337479"
     },
     "user_tz": -330
    },
    "id": "qMztz-av1w7R",
    "outputId": "fc96ca3c-ece9-492f-8ad7-f679d3be64bd"
   },
   "outputs": [
    {
     "name": "stdout",
     "output_type": "stream",
     "text": [
      "Mounted at /content/drive\n"
     ]
    }
   ],
   "source": [
    "# Mount drive\n",
    "from google.colab import drive\n",
    "drive.mount('/content/drive')"
   ]
  },
  {
   "cell_type": "code",
   "execution_count": 4,
   "metadata": {
    "executionInfo": {
     "elapsed": 1167,
     "status": "ok",
     "timestamp": 1648356793683,
     "user": {
      "displayName": "Hrishikesh K",
      "photoUrl": "https://lh3.googleusercontent.com/a/default-user=s64",
      "userId": "17100987462167337479"
     },
     "user_tz": -330
    },
    "id": "yP0XLJx_x_6o"
   },
   "outputs": [],
   "source": [
    "# Root directory of the project\n",
    "ROOT_DIR = os.path.abspath('/content/drive/MyDrive/GL_Learning/Assignments/Captsone_Project/rsna-pneumonia-detection-challenge/')\n",
    "\n",
    "# Directory to save logs and trained model\n",
    "MODEL_DIR = os.path.join(ROOT_DIR, 'logs')\n",
    "\n",
    "if not os.path.exists(ROOT_DIR):\n",
    "    os.makedirs(ROOT_DIR)\n",
    "os.chdir(ROOT_DIR)"
   ]
  },
  {
   "cell_type": "markdown",
   "metadata": {
    "id": "kdYzLq1zfKL4"
   },
   "source": [
    "### Install Matterport's Mask-RCNN model from github.\n",
    "See the [Matterport's implementation of Mask-RCNN](https://github.com/matterport/Mask_RCNN)."
   ]
  },
  {
   "cell_type": "code",
   "execution_count": 5,
   "metadata": {
    "colab": {
     "base_uri": "https://localhost:8080/"
    },
    "executionInfo": {
     "elapsed": 13041,
     "status": "ok",
     "timestamp": 1648356809346,
     "user": {
      "displayName": "Hrishikesh K",
      "photoUrl": "https://lh3.googleusercontent.com/a/default-user=s64",
      "userId": "17100987462167337479"
     },
     "user_tz": -330
    },
    "id": "KgllzLnDr7kF",
    "outputId": "552f1d0e-9702-4cb1-807a-5ffd01b4a221"
   },
   "outputs": [
    {
     "name": "stdout",
     "output_type": "stream",
     "text": [
      "\u001b[K     |████████████████████████████████| 462 kB 5.3 MB/s \n",
      "\u001b[K     |████████████████████████████████| 297 kB 51.8 MB/s \n",
      "\u001b[K     |████████████████████████████████| 154 kB 56.2 MB/s \n",
      "\u001b[?25hWARNING:root:Fail load requirements file, so using default ones.\n",
      "zip_safe flag not set; analyzing archive contents...\n"
     ]
    }
   ],
   "source": [
    "os.chdir(ROOT_DIR)\n",
    "#!git clone https://github.com/akTwelve/Mask_RCNN.git\n",
    "#!git clone https://github.com/matterport/Mask_RCNN.git\n",
    "os.chdir('Mask_RCNN_old')\n",
    "!pip3 install -q -r requirements.txt\n",
    "!python3 setup.py -q install"
   ]
  },
  {
   "cell_type": "code",
   "execution_count": null,
   "metadata": {
    "id": "Elvz12lm279i"
   },
   "outputs": [],
   "source": [
    "#os.chdir('Mask_RCNN')\n",
    "#!pip3 install -q -r requirements.txt\n",
    "#!python3 setup.py -q install"
   ]
  },
  {
   "cell_type": "code",
   "execution_count": 6,
   "metadata": {
    "colab": {
     "base_uri": "https://localhost:8080/"
    },
    "executionInfo": {
     "elapsed": 63316,
     "status": "ok",
     "timestamp": 1648356881635,
     "user": {
      "displayName": "Hrishikesh K",
      "photoUrl": "https://lh3.googleusercontent.com/a/default-user=s64",
      "userId": "17100987462167337479"
     },
     "user_tz": -330
    },
    "id": "4PBKNBZg7eAw",
    "outputId": "4c108223-0db3-4ffc-e21c-28699744645a"
   },
   "outputs": [
    {
     "name": "stdout",
     "output_type": "stream",
     "text": [
      "\u001b[33mWARNING: Skipping keras-nightly as it is not installed.\u001b[0m\n",
      "\u001b[K     |████████████████████████████████| 92.6 MB 63 kB/s \n",
      "\u001b[K     |████████████████████████████████| 42 kB 911 kB/s \n",
      "\u001b[K     |████████████████████████████████| 3.2 MB 31.1 MB/s \n",
      "\u001b[K     |████████████████████████████████| 50 kB 5.3 MB/s \n",
      "\u001b[K     |████████████████████████████████| 367 kB 42.5 MB/s \n",
      "\u001b[K     |████████████████████████████████| 4.1 MB 36.7 MB/s \n",
      "\u001b[31mERROR: pip's dependency resolver does not currently take into account all the packages that are installed. This behaviour is the source of the following dependency conflicts.\n",
      "kapre 0.3.7 requires tensorflow>=2.0.0, but you have tensorflow 1.13.1 which is incompatible.\u001b[0m\n",
      "\u001b[K     |████████████████████████████████| 276 kB 5.1 MB/s \n",
      "\u001b[K     |████████████████████████████████| 2.9 MB 5.2 MB/s \n",
      "\u001b[?25h"
     ]
    }
   ],
   "source": [
    "!pip3 uninstall -q keras -y\n",
    "!pip3 uninstall -q keras-nightly -y\n",
    "!pip3 uninstall -q keras-Preprocessing -y\n",
    "!pip3 uninstall -q keras-vis -y\n",
    "!pip3 uninstall -q tensorflow -y\n",
    "!pip3 uninstall -q h5py -y\n",
    "!pip3 install -q tensorflow==1.13.1\n",
    "!pip3 install -q keras==2.0.8\n",
    "!pip3 install -q h5py==2.10.0"
   ]
  },
  {
   "cell_type": "code",
   "execution_count": 7,
   "metadata": {
    "colab": {
     "base_uri": "https://localhost:8080/"
    },
    "executionInfo": {
     "elapsed": 5598,
     "status": "ok",
     "timestamp": 1648356898056,
     "user": {
      "displayName": "Hrishikesh K",
      "photoUrl": "https://lh3.googleusercontent.com/a/default-user=s64",
      "userId": "17100987462167337479"
     },
     "user_tz": -330
    },
    "id": "-KZXyWwhzOVU",
    "outputId": "2781321c-0668-40a6-fc83-7655d2ae802a"
   },
   "outputs": [
    {
     "name": "stderr",
     "output_type": "stream",
     "text": [
      "/usr/local/lib/python3.7/dist-packages/tensorflow/python/framework/dtypes.py:526: FutureWarning: Passing (type, 1) or '1type' as a synonym of type is deprecated; in a future version of numpy, it will be understood as (type, (1,)) / '(1,)type'.\n",
      "  _np_qint8 = np.dtype([(\"qint8\", np.int8, 1)])\n",
      "/usr/local/lib/python3.7/dist-packages/tensorflow/python/framework/dtypes.py:527: FutureWarning: Passing (type, 1) or '1type' as a synonym of type is deprecated; in a future version of numpy, it will be understood as (type, (1,)) / '(1,)type'.\n",
      "  _np_quint8 = np.dtype([(\"quint8\", np.uint8, 1)])\n",
      "/usr/local/lib/python3.7/dist-packages/tensorflow/python/framework/dtypes.py:528: FutureWarning: Passing (type, 1) or '1type' as a synonym of type is deprecated; in a future version of numpy, it will be understood as (type, (1,)) / '(1,)type'.\n",
      "  _np_qint16 = np.dtype([(\"qint16\", np.int16, 1)])\n",
      "/usr/local/lib/python3.7/dist-packages/tensorflow/python/framework/dtypes.py:529: FutureWarning: Passing (type, 1) or '1type' as a synonym of type is deprecated; in a future version of numpy, it will be understood as (type, (1,)) / '(1,)type'.\n",
      "  _np_quint16 = np.dtype([(\"quint16\", np.uint16, 1)])\n",
      "/usr/local/lib/python3.7/dist-packages/tensorflow/python/framework/dtypes.py:530: FutureWarning: Passing (type, 1) or '1type' as a synonym of type is deprecated; in a future version of numpy, it will be understood as (type, (1,)) / '(1,)type'.\n",
      "  _np_qint32 = np.dtype([(\"qint32\", np.int32, 1)])\n",
      "/usr/local/lib/python3.7/dist-packages/tensorflow/python/framework/dtypes.py:535: FutureWarning: Passing (type, 1) or '1type' as a synonym of type is deprecated; in a future version of numpy, it will be understood as (type, (1,)) / '(1,)type'.\n",
      "  np_resource = np.dtype([(\"resource\", np.ubyte, 1)])\n",
      "Using TensorFlow backend.\n"
     ]
    }
   ],
   "source": [
    "# Import Mask RCNN\n",
    "sys.path.append(os.path.join(ROOT_DIR, 'Mask_RCNN_old'))  # To find local version of the library\n",
    "from mrcnn.config import Config\n",
    "from mrcnn import utils\n",
    "import mrcnn.model as modellib\n",
    "from mrcnn import visualize\n",
    "from mrcnn.model import log"
   ]
  },
  {
   "cell_type": "code",
   "execution_count": 8,
   "metadata": {
    "executionInfo": {
     "elapsed": 473,
     "status": "ok",
     "timestamp": 1648356903172,
     "user": {
      "displayName": "Hrishikesh K",
      "photoUrl": "https://lh3.googleusercontent.com/a/default-user=s64",
      "userId": "17100987462167337479"
     },
     "user_tz": -330
    },
    "id": "FghMmiMjzOX2"
   },
   "outputs": [],
   "source": [
    "train_dicom_dir = os.path.join(ROOT_DIR, 'stage_2_train_images')\n",
    "test_dicom_dir = os.path.join(ROOT_DIR, 'stage__test_images')"
   ]
  },
  {
   "cell_type": "markdown",
   "metadata": {
    "id": "gj-tvDvEaDiC"
   },
   "source": [
    "### Some setup functions and classes for Mask-RCNN\n",
    "\n",
    "- dicom_fps is a list of the dicom image path and filenames \n",
    "- image_annotions is a dictionary of the annotations keyed by the filenames\n",
    "- parsing the dataset returns a list of the image filenames and the annotations dictionary"
   ]
  },
  {
   "cell_type": "code",
   "execution_count": 9,
   "metadata": {
    "executionInfo": {
     "elapsed": 692,
     "status": "ok",
     "timestamp": 1648356910690,
     "user": {
      "displayName": "Hrishikesh K",
      "photoUrl": "https://lh3.googleusercontent.com/a/default-user=s64",
      "userId": "17100987462167337479"
     },
     "user_tz": -330
    },
    "id": "ivqC4cnszOaM"
   },
   "outputs": [],
   "source": [
    "def get_dicom_fps(dicom_dir):\n",
    "    dicom_fps = glob.glob(dicom_dir+'/'+'*.dcm')\n",
    "    return list(set(dicom_fps))\n",
    "\n",
    "def parse_dataset(dicom_dir, anns): \n",
    "    image_fps = get_dicom_fps(dicom_dir)\n",
    "    image_annotations = {fp: [] for fp in image_fps}\n",
    "    for index, row in anns.iterrows(): \n",
    "        fp = os.path.join(dicom_dir, row['patientId']+'.dcm')\n",
    "        image_annotations[fp].append(row)\n",
    "    return image_fps, image_annotations "
   ]
  },
  {
   "cell_type": "code",
   "execution_count": 10,
   "metadata": {
    "colab": {
     "base_uri": "https://localhost:8080/"
    },
    "executionInfo": {
     "elapsed": 5,
     "status": "ok",
     "timestamp": 1648356912536,
     "user": {
      "displayName": "Hrishikesh K",
      "photoUrl": "https://lh3.googleusercontent.com/a/default-user=s64",
      "userId": "17100987462167337479"
     },
     "user_tz": -330
    },
    "id": "_SfzTa-1zOck",
    "outputId": "5ea8f818-f93e-447b-9737-a37e162cf162"
   },
   "outputs": [
    {
     "name": "stdout",
     "output_type": "stream",
     "text": [
      "\n",
      "Configurations:\n",
      "BACKBONE                       resnet50\n",
      "BACKBONE_STRIDES               [4, 8, 16, 32, 64]\n",
      "BATCH_SIZE                     8\n",
      "BBOX_STD_DEV                   [0.1 0.1 0.2 0.2]\n",
      "COMPUTE_BACKBONE_SHAPE         None\n",
      "DETECTION_MAX_INSTANCES        3\n",
      "DETECTION_MIN_CONFIDENCE       0.9\n",
      "DETECTION_NMS_THRESHOLD        0.1\n",
      "FPN_CLASSIF_FC_LAYERS_SIZE     1024\n",
      "GPU_COUNT                      1\n",
      "GRADIENT_CLIP_NORM             5.0\n",
      "IMAGES_PER_GPU                 8\n",
      "IMAGE_CHANNEL_COUNT            3\n",
      "IMAGE_MAX_DIM                  128\n",
      "IMAGE_META_SIZE                14\n",
      "IMAGE_MIN_DIM                  128\n",
      "IMAGE_MIN_SCALE                0\n",
      "IMAGE_RESIZE_MODE              square\n",
      "IMAGE_SHAPE                    [128 128   3]\n",
      "LEARNING_MOMENTUM              0.9\n",
      "LEARNING_RATE                  0.001\n",
      "LOSS_WEIGHTS                   {'rpn_class_loss': 1.0, 'rpn_bbox_loss': 1.0, 'mrcnn_class_loss': 1.0, 'mrcnn_bbox_loss': 1.0, 'mrcnn_mask_loss': 1.0}\n",
      "MASK_POOL_SIZE                 14\n",
      "MASK_SHAPE                     [28, 28]\n",
      "MAX_GT_INSTANCES               3\n",
      "MEAN_PIXEL                     [123.7 116.8 103.9]\n",
      "MINI_MASK_SHAPE                (56, 56)\n",
      "NAME                           pneumonia\n",
      "NUM_CLASSES                    2\n",
      "POOL_SIZE                      7\n",
      "POST_NMS_ROIS_INFERENCE        1000\n",
      "POST_NMS_ROIS_TRAINING         2000\n",
      "PRE_NMS_LIMIT                  6000\n",
      "ROI_POSITIVE_RATIO             0.33\n",
      "RPN_ANCHOR_RATIOS              [0.5, 1, 2]\n",
      "RPN_ANCHOR_SCALES              (32, 64, 128, 256, 512)\n",
      "RPN_ANCHOR_STRIDE              1\n",
      "RPN_BBOX_STD_DEV               [0.1 0.1 0.2 0.2]\n",
      "RPN_NMS_THRESHOLD              0.7\n",
      "RPN_TRAIN_ANCHORS_PER_IMAGE    16\n",
      "STEPS_PER_EPOCH                100\n",
      "TOP_DOWN_PYRAMID_SIZE          32\n",
      "TRAIN_BN                       False\n",
      "TRAIN_ROIS_PER_IMAGE           16\n",
      "USE_MINI_MASK                  True\n",
      "USE_RPN_ROIS                   True\n",
      "VALIDATION_STEPS               50\n",
      "WEIGHT_DECAY                   0.0001\n",
      "\n",
      "\n"
     ]
    }
   ],
   "source": [
    "# The following parameters have been selected to reduce running time for demonstration purposes \n",
    "# These are not optimal \n",
    "\n",
    "class DetectorConfig(Config):\n",
    "    \"\"\"Configuration for training pneumonia detection on the RSNA pneumonia dataset.\n",
    "    Overrides values in the base Config class.\n",
    "    \"\"\"\n",
    "    \n",
    "    # Give the configuration a recognizable name  \n",
    "    NAME = 'pneumonia'\n",
    "    \n",
    "    # Train on 1 GPU and 8 images per GPU. We can put multiple images on each\n",
    "    # GPU because the images are small. Batch size is 8 (GPUs * images/GPU).\n",
    "    GPU_COUNT = 1\n",
    "    IMAGES_PER_GPU = 8 \n",
    "    \n",
    "    BACKBONE = 'resnet50'\n",
    "    \n",
    "    NUM_CLASSES = 2  # background + 1 pneumonia classes\n",
    "    \n",
    "    # Use small images for faster training. Set the limits of the small side\n",
    "    # the large side, and that determines the image shape.\n",
    "    IMAGE_MIN_DIM = 128\n",
    "    IMAGE_MAX_DIM = 128\n",
    "    \n",
    "#    RPN_ANCHOR_SCALES = (32, 64)\n",
    "    \n",
    "    TRAIN_ROIS_PER_IMAGE = 16\n",
    "    \n",
    "    MAX_GT_INSTANCES = 3\n",
    "    \n",
    "    DETECTION_MAX_INSTANCES = 3\n",
    "    DETECTION_MIN_CONFIDENCE = 0.9\n",
    "    DETECTION_NMS_THRESHOLD = 0.1\n",
    "    \n",
    "    RPN_TRAIN_ANCHORS_PER_IMAGE = 16\n",
    "    STEPS_PER_EPOCH = 100 \n",
    "    TOP_DOWN_PYRAMID_SIZE = 32\n",
    "    STEPS_PER_EPOCH = 100\n",
    "    \n",
    "    \n",
    "config = DetectorConfig()\n",
    "config.display()"
   ]
  },
  {
   "cell_type": "code",
   "execution_count": 11,
   "metadata": {
    "executionInfo": {
     "elapsed": 414,
     "status": "ok",
     "timestamp": 1648356916343,
     "user": {
      "displayName": "Hrishikesh K",
      "photoUrl": "https://lh3.googleusercontent.com/a/default-user=s64",
      "userId": "17100987462167337479"
     },
     "user_tz": -330
    },
    "id": "8EBVA1M60yAj"
   },
   "outputs": [],
   "source": [
    "class DetectorDataset(utils.Dataset):\n",
    "    \"\"\"Dataset class for training pneumonia detection on the RSNA pneumonia dataset.\n",
    "    \"\"\"\n",
    "\n",
    "    def __init__(self, image_fps, image_annotations, orig_height, orig_width):\n",
    "        super().__init__(self)\n",
    "        \n",
    "        # Add classes\n",
    "        self.add_class('pneumonia', 1, 'Lung Opacity')\n",
    "   \n",
    "        # add images \n",
    "        for i, fp in enumerate(image_fps):\n",
    "            annotations = image_annotations[fp]\n",
    "            self.add_image('pneumonia', image_id=i, path=fp, \n",
    "                           annotations=annotations, orig_height=orig_height, orig_width=orig_width)\n",
    "            \n",
    "    def image_reference(self, image_id):\n",
    "        info = self.image_info[image_id]\n",
    "        return info['path']\n",
    "\n",
    "    def load_image(self, image_id):\n",
    "        info = self.image_info[image_id]\n",
    "        fp = info['path']\n",
    "        ds = pydicom.read_file(fp)\n",
    "        image = ds.pixel_array\n",
    "        # If grayscale. Convert to RGB for consistency.\n",
    "        if len(image.shape) != 3 or image.shape[2] != 3:\n",
    "            image = np.stack((image,) * 3, -1)\n",
    "        return image\n",
    "\n",
    "    def load_mask(self, image_id):\n",
    "        info = self.image_info[image_id]\n",
    "        annotations = info['annotations']\n",
    "        count = len(annotations)\n",
    "        if count == 0:\n",
    "            mask = np.zeros((info['orig_height'], info['orig_width'], 1), dtype=np.uint8)\n",
    "            class_ids = np.zeros((1,), dtype=np.int32)\n",
    "        else:\n",
    "            mask = np.zeros((info['orig_height'], info['orig_width'], count), dtype=np.uint8)\n",
    "            class_ids = np.zeros((count,), dtype=np.int32)\n",
    "            for i, a in enumerate(annotations):\n",
    "                if a['Target'] == 1:\n",
    "                    x = int(a['x'])\n",
    "                    y = int(a['y'])\n",
    "                    w = int(a['width'])\n",
    "                    h = int(a['height'])\n",
    "                    mask_instance = mask[:, :, i].copy()\n",
    "                    cv2.rectangle(mask_instance, (x, y), (x+w, y+h), 255, -1)\n",
    "                    mask[:, :, i] = mask_instance\n",
    "                    class_ids[i] = 1\n",
    "        return mask.astype(np.bool), class_ids.astype(np.int32)"
   ]
  },
  {
   "cell_type": "markdown",
   "metadata": {
    "id": "9RlMo04ckd98"
   },
   "source": [
    "### Examine the annotation data, parse the dataset, and view dicom fields"
   ]
  },
  {
   "cell_type": "code",
   "execution_count": 12,
   "metadata": {
    "colab": {
     "base_uri": "https://localhost:8080/",
     "height": 237
    },
    "executionInfo": {
     "elapsed": 627,
     "status": "ok",
     "timestamp": 1648356919709,
     "user": {
      "displayName": "Hrishikesh K",
      "photoUrl": "https://lh3.googleusercontent.com/a/default-user=s64",
      "userId": "17100987462167337479"
     },
     "user_tz": -330
    },
    "id": "EdhUEFDr0yDA",
    "outputId": "a2d6bb11-c89c-474a-8cb1-5a90306b79ba"
   },
   "outputs": [
    {
     "data": {
      "text/html": [
       "\n",
       "  <div id=\"df-9e6fde74-e34d-4bb6-b8b5-2ad322dc16c8\">\n",
       "    <div class=\"colab-df-container\">\n",
       "      <div>\n",
       "<style scoped>\n",
       "    .dataframe tbody tr th:only-of-type {\n",
       "        vertical-align: middle;\n",
       "    }\n",
       "\n",
       "    .dataframe tbody tr th {\n",
       "        vertical-align: top;\n",
       "    }\n",
       "\n",
       "    .dataframe thead th {\n",
       "        text-align: right;\n",
       "    }\n",
       "</style>\n",
       "<table border=\"1\" class=\"dataframe\">\n",
       "  <thead>\n",
       "    <tr style=\"text-align: right;\">\n",
       "      <th></th>\n",
       "      <th>patientId</th>\n",
       "      <th>x</th>\n",
       "      <th>y</th>\n",
       "      <th>width</th>\n",
       "      <th>height</th>\n",
       "      <th>Target</th>\n",
       "    </tr>\n",
       "  </thead>\n",
       "  <tbody>\n",
       "    <tr>\n",
       "      <th>0</th>\n",
       "      <td>0004cfab-14fd-4e49-80ba-63a80b6bddd6</td>\n",
       "      <td>NaN</td>\n",
       "      <td>NaN</td>\n",
       "      <td>NaN</td>\n",
       "      <td>NaN</td>\n",
       "      <td>0</td>\n",
       "    </tr>\n",
       "    <tr>\n",
       "      <th>1</th>\n",
       "      <td>00313ee0-9eaa-42f4-b0ab-c148ed3241cd</td>\n",
       "      <td>NaN</td>\n",
       "      <td>NaN</td>\n",
       "      <td>NaN</td>\n",
       "      <td>NaN</td>\n",
       "      <td>0</td>\n",
       "    </tr>\n",
       "    <tr>\n",
       "      <th>2</th>\n",
       "      <td>00322d4d-1c29-4943-afc9-b6754be640eb</td>\n",
       "      <td>NaN</td>\n",
       "      <td>NaN</td>\n",
       "      <td>NaN</td>\n",
       "      <td>NaN</td>\n",
       "      <td>0</td>\n",
       "    </tr>\n",
       "    <tr>\n",
       "      <th>3</th>\n",
       "      <td>003d8fa0-6bf1-40ed-b54c-ac657f8495c5</td>\n",
       "      <td>NaN</td>\n",
       "      <td>NaN</td>\n",
       "      <td>NaN</td>\n",
       "      <td>NaN</td>\n",
       "      <td>0</td>\n",
       "    </tr>\n",
       "    <tr>\n",
       "      <th>4</th>\n",
       "      <td>00436515-870c-4b36-a041-de91049b9ab4</td>\n",
       "      <td>264.0</td>\n",
       "      <td>152.0</td>\n",
       "      <td>213.0</td>\n",
       "      <td>379.0</td>\n",
       "      <td>1</td>\n",
       "    </tr>\n",
       "    <tr>\n",
       "      <th>5</th>\n",
       "      <td>00436515-870c-4b36-a041-de91049b9ab4</td>\n",
       "      <td>562.0</td>\n",
       "      <td>152.0</td>\n",
       "      <td>256.0</td>\n",
       "      <td>453.0</td>\n",
       "      <td>1</td>\n",
       "    </tr>\n",
       "  </tbody>\n",
       "</table>\n",
       "</div>\n",
       "      <button class=\"colab-df-convert\" onclick=\"convertToInteractive('df-9e6fde74-e34d-4bb6-b8b5-2ad322dc16c8')\"\n",
       "              title=\"Convert this dataframe to an interactive table.\"\n",
       "              style=\"display:none;\">\n",
       "        \n",
       "  <svg xmlns=\"http://www.w3.org/2000/svg\" height=\"24px\"viewBox=\"0 0 24 24\"\n",
       "       width=\"24px\">\n",
       "    <path d=\"M0 0h24v24H0V0z\" fill=\"none\"/>\n",
       "    <path d=\"M18.56 5.44l.94 2.06.94-2.06 2.06-.94-2.06-.94-.94-2.06-.94 2.06-2.06.94zm-11 1L8.5 8.5l.94-2.06 2.06-.94-2.06-.94L8.5 2.5l-.94 2.06-2.06.94zm10 10l.94 2.06.94-2.06 2.06-.94-2.06-.94-.94-2.06-.94 2.06-2.06.94z\"/><path d=\"M17.41 7.96l-1.37-1.37c-.4-.4-.92-.59-1.43-.59-.52 0-1.04.2-1.43.59L10.3 9.45l-7.72 7.72c-.78.78-.78 2.05 0 2.83L4 21.41c.39.39.9.59 1.41.59.51 0 1.02-.2 1.41-.59l7.78-7.78 2.81-2.81c.8-.78.8-2.07 0-2.86zM5.41 20L4 18.59l7.72-7.72 1.47 1.35L5.41 20z\"/>\n",
       "  </svg>\n",
       "      </button>\n",
       "      \n",
       "  <style>\n",
       "    .colab-df-container {\n",
       "      display:flex;\n",
       "      flex-wrap:wrap;\n",
       "      gap: 12px;\n",
       "    }\n",
       "\n",
       "    .colab-df-convert {\n",
       "      background-color: #E8F0FE;\n",
       "      border: none;\n",
       "      border-radius: 50%;\n",
       "      cursor: pointer;\n",
       "      display: none;\n",
       "      fill: #1967D2;\n",
       "      height: 32px;\n",
       "      padding: 0 0 0 0;\n",
       "      width: 32px;\n",
       "    }\n",
       "\n",
       "    .colab-df-convert:hover {\n",
       "      background-color: #E2EBFA;\n",
       "      box-shadow: 0px 1px 2px rgba(60, 64, 67, 0.3), 0px 1px 3px 1px rgba(60, 64, 67, 0.15);\n",
       "      fill: #174EA6;\n",
       "    }\n",
       "\n",
       "    [theme=dark] .colab-df-convert {\n",
       "      background-color: #3B4455;\n",
       "      fill: #D2E3FC;\n",
       "    }\n",
       "\n",
       "    [theme=dark] .colab-df-convert:hover {\n",
       "      background-color: #434B5C;\n",
       "      box-shadow: 0px 1px 3px 1px rgba(0, 0, 0, 0.15);\n",
       "      filter: drop-shadow(0px 1px 2px rgba(0, 0, 0, 0.3));\n",
       "      fill: #FFFFFF;\n",
       "    }\n",
       "  </style>\n",
       "\n",
       "      <script>\n",
       "        const buttonEl =\n",
       "          document.querySelector('#df-9e6fde74-e34d-4bb6-b8b5-2ad322dc16c8 button.colab-df-convert');\n",
       "        buttonEl.style.display =\n",
       "          google.colab.kernel.accessAllowed ? 'block' : 'none';\n",
       "\n",
       "        async function convertToInteractive(key) {\n",
       "          const element = document.querySelector('#df-9e6fde74-e34d-4bb6-b8b5-2ad322dc16c8');\n",
       "          const dataTable =\n",
       "            await google.colab.kernel.invokeFunction('convertToInteractive',\n",
       "                                                     [key], {});\n",
       "          if (!dataTable) return;\n",
       "\n",
       "          const docLinkHtml = 'Like what you see? Visit the ' +\n",
       "            '<a target=\"_blank\" href=https://colab.research.google.com/notebooks/data_table.ipynb>data table notebook</a>'\n",
       "            + ' to learn more about interactive tables.';\n",
       "          element.innerHTML = '';\n",
       "          dataTable['output_type'] = 'display_data';\n",
       "          await google.colab.output.renderOutput(dataTable, element);\n",
       "          const docLink = document.createElement('div');\n",
       "          docLink.innerHTML = docLinkHtml;\n",
       "          element.appendChild(docLink);\n",
       "        }\n",
       "      </script>\n",
       "    </div>\n",
       "  </div>\n",
       "  "
      ],
      "text/plain": [
       "                              patientId      x      y  width  height  Target\n",
       "0  0004cfab-14fd-4e49-80ba-63a80b6bddd6    NaN    NaN    NaN     NaN       0\n",
       "1  00313ee0-9eaa-42f4-b0ab-c148ed3241cd    NaN    NaN    NaN     NaN       0\n",
       "2  00322d4d-1c29-4943-afc9-b6754be640eb    NaN    NaN    NaN     NaN       0\n",
       "3  003d8fa0-6bf1-40ed-b54c-ac657f8495c5    NaN    NaN    NaN     NaN       0\n",
       "4  00436515-870c-4b36-a041-de91049b9ab4  264.0  152.0  213.0   379.0       1\n",
       "5  00436515-870c-4b36-a041-de91049b9ab4  562.0  152.0  256.0   453.0       1"
      ]
     },
     "execution_count": 12,
     "metadata": {},
     "output_type": "execute_result"
    }
   ],
   "source": [
    "# training dataset\n",
    "anns = pd.read_csv(os.path.join(ROOT_DIR, 'stage_2_train_labels.csv'),nrows=3000)\n",
    "#anns = anns.head(3000)\n",
    "anns.head(6)"
   ]
  },
  {
   "cell_type": "code",
   "execution_count": 14,
   "metadata": {
    "executionInfo": {
     "elapsed": 49368,
     "status": "ok",
     "timestamp": 1648357153795,
     "user": {
      "displayName": "Hrishikesh K",
      "photoUrl": "https://lh3.googleusercontent.com/a/default-user=s64",
      "userId": "17100987462167337479"
     },
     "user_tz": -330
    },
    "id": "Mxz-pNbt5txY"
   },
   "outputs": [],
   "source": [
    "image_fps, image_annotations = parse_dataset(train_dicom_dir, anns=anns)"
   ]
  },
  {
   "cell_type": "code",
   "execution_count": 15,
   "metadata": {
    "executionInfo": {
     "elapsed": 372,
     "status": "ok",
     "timestamp": 1648357179958,
     "user": {
      "displayName": "Hrishikesh K",
      "photoUrl": "https://lh3.googleusercontent.com/a/default-user=s64",
      "userId": "17100987462167337479"
     },
     "user_tz": -330
    },
    "id": "YPqjEIXWRhSf"
   },
   "outputs": [],
   "source": [
    "ds = pydicom.read_file(image_fps[0]) # read dicom image from filepath \n",
    "image = ds.pixel_array # get image array"
   ]
  },
  {
   "cell_type": "code",
   "execution_count": null,
   "metadata": {
    "colab": {
     "base_uri": "https://localhost:8080/"
    },
    "id": "81lovwF2Ro5R",
    "outputId": "c3a5bdd4-0af6-4488-b19a-22960f24b2d0"
   },
   "outputs": [
    {
     "data": {
      "text/plain": [
       "Dataset.file_meta -------------------------------\n",
       "(0002, 0000) File Meta Information Group Length  UL: 202\n",
       "(0002, 0001) File Meta Information Version       OB: b'\\x00\\x01'\n",
       "(0002, 0002) Media Storage SOP Class UID         UI: Secondary Capture Image Storage\n",
       "(0002, 0003) Media Storage SOP Instance UID      UI: 1.2.276.0.7230010.3.1.4.8323329.12988.1517874368.749487\n",
       "(0002, 0010) Transfer Syntax UID                 UI: JPEG Baseline (Process 1)\n",
       "(0002, 0012) Implementation Class UID            UI: 1.2.276.0.7230010.3.0.3.6.0\n",
       "(0002, 0013) Implementation Version Name         SH: 'OFFIS_DCMTK_360'\n",
       "-------------------------------------------------\n",
       "(0008, 0005) Specific Character Set              CS: 'ISO_IR 100'\n",
       "(0008, 0016) SOP Class UID                       UI: Secondary Capture Image Storage\n",
       "(0008, 0018) SOP Instance UID                    UI: 1.2.276.0.7230010.3.1.4.8323329.12988.1517874368.749487\n",
       "(0008, 0020) Study Date                          DA: '19010101'\n",
       "(0008, 0030) Study Time                          TM: '000000.00'\n",
       "(0008, 0050) Accession Number                    SH: ''\n",
       "(0008, 0060) Modality                            CS: 'CR'\n",
       "(0008, 0064) Conversion Type                     CS: 'WSD'\n",
       "(0008, 0090) Referring Physician's Name          PN: ''\n",
       "(0008, 103e) Series Description                  LO: 'view: AP'\n",
       "(0010, 0010) Patient's Name                      PN: '5fc96a31-b996-4998-b0ab-b4cac726693e'\n",
       "(0010, 0020) Patient ID                          LO: '5fc96a31-b996-4998-b0ab-b4cac726693e'\n",
       "(0010, 0030) Patient's Birth Date                DA: ''\n",
       "(0010, 0040) Patient's Sex                       CS: 'M'\n",
       "(0010, 1010) Patient's Age                       AS: '81'\n",
       "(0018, 0015) Body Part Examined                  CS: 'CHEST'\n",
       "(0018, 5101) View Position                       CS: 'AP'\n",
       "(0020, 000d) Study Instance UID                  UI: 1.2.276.0.7230010.3.1.2.8323329.12988.1517874368.749486\n",
       "(0020, 000e) Series Instance UID                 UI: 1.2.276.0.7230010.3.1.3.8323329.12988.1517874368.749485\n",
       "(0020, 0010) Study ID                            SH: ''\n",
       "(0020, 0011) Series Number                       IS: '1'\n",
       "(0020, 0013) Instance Number                     IS: '1'\n",
       "(0020, 0020) Patient Orientation                 CS: ''\n",
       "(0028, 0002) Samples per Pixel                   US: 1\n",
       "(0028, 0004) Photometric Interpretation          CS: 'MONOCHROME2'\n",
       "(0028, 0010) Rows                                US: 1024\n",
       "(0028, 0011) Columns                             US: 1024\n",
       "(0028, 0030) Pixel Spacing                       DS: [0.171, 0.171]\n",
       "(0028, 0100) Bits Allocated                      US: 8\n",
       "(0028, 0101) Bits Stored                         US: 8\n",
       "(0028, 0102) High Bit                            US: 7\n",
       "(0028, 0103) Pixel Representation                US: 0\n",
       "(0028, 2110) Lossy Image Compression             CS: '01'\n",
       "(0028, 2114) Lossy Image Compression Method      CS: 'ISO_10918_1'\n",
       "(7fe0, 0010) Pixel Data                          OB: Array of 127374 elements"
      ]
     },
     "execution_count": 66,
     "metadata": {},
     "output_type": "execute_result"
    }
   ],
   "source": [
    "# show dicom fields \n",
    "ds"
   ]
  },
  {
   "cell_type": "code",
   "execution_count": 16,
   "metadata": {
    "executionInfo": {
     "elapsed": 677,
     "status": "ok",
     "timestamp": 1648357185999,
     "user": {
      "displayName": "Hrishikesh K",
      "photoUrl": "https://lh3.googleusercontent.com/a/default-user=s64",
      "userId": "17100987462167337479"
     },
     "user_tz": -330
    },
    "id": "gYNSd1AhRqOV"
   },
   "outputs": [],
   "source": [
    "# Original DICOM image size: 1024 x 1024\n",
    "ORIG_SIZE = 1024"
   ]
  },
  {
   "cell_type": "markdown",
   "metadata": {
    "id": "4FlRu8ML-ceg"
   },
   "source": [
    "### Split the data into training and validation datasets\n",
    "**Note: We have only used only a portion of the images for demonstration purposes. See comments below.**\n",
    " \n",
    " - To use all the images do: image_fps_list = list(image_fps)\n",
    " - Or change the number of images from 100 to a custom number"
   ]
  },
  {
   "cell_type": "code",
   "execution_count": 17,
   "metadata": {
    "colab": {
     "base_uri": "https://localhost:8080/"
    },
    "executionInfo": {
     "elapsed": 407,
     "status": "ok",
     "timestamp": 1648357198223,
     "user": {
      "displayName": "Hrishikesh K",
      "photoUrl": "https://lh3.googleusercontent.com/a/default-user=s64",
      "userId": "17100987462167337479"
     },
     "user_tz": -330
    },
    "id": "7jByVCZt-ZOC",
    "outputId": "7f0f32db-616a-4f17-ec46-55abc558c9d5"
   },
   "outputs": [
    {
     "name": "stdout",
     "output_type": "stream",
     "text": [
      "2000 1000\n"
     ]
    }
   ],
   "source": [
    "######################################################################\n",
    "# Modify this line to use more or fewer images for training/validation. \n",
    "# To use all images, do: image_fps_list = list(image_fps)\n",
    "image_fps_list = list(image_fps) \n",
    "#####################################################################\n",
    "\n",
    "# split dataset into training vs. validation dataset \n",
    "# split ratio is set to 0.9 vs. 0.1 (train vs. validation, respectively)\n",
    "#sorted(image_fps_list)\n",
    "#random.seed(40)\n",
    "#random.shuffle(image_fps_list)\n",
    "\n",
    "#validation_split = 0.1\n",
    "#split_index = int((1 - validation_split) * len(image_fps_list))\n",
    "\n",
    "#image_fps_train = image_fps_list[:split_index]\n",
    "#image_fps_val = image_fps_list[split_index:]\n",
    "\n",
    "image_fps_train = image_fps_list[:2000]\n",
    "image_fps_val = image_fps_list[2000:3000]\n",
    "\n",
    "print(len(image_fps_train), len(image_fps_val))"
   ]
  },
  {
   "cell_type": "markdown",
   "metadata": {
    "id": "9KUvacUbgiEX"
   },
   "source": [
    "### Create and prepare the training dataset using the DetectorDataset class."
   ]
  },
  {
   "cell_type": "code",
   "execution_count": 18,
   "metadata": {
    "executionInfo": {
     "elapsed": 513,
     "status": "ok",
     "timestamp": 1648357203038,
     "user": {
      "displayName": "Hrishikesh K",
      "photoUrl": "https://lh3.googleusercontent.com/a/default-user=s64",
      "userId": "17100987462167337479"
     },
     "user_tz": -330
    },
    "id": "jwMkhotP0yFf"
   },
   "outputs": [],
   "source": [
    "# prepare the training dataset\n",
    "dataset_train = DetectorDataset(image_fps_train, image_annotations, ORIG_SIZE, ORIG_SIZE)\n",
    "dataset_train.prepare()"
   ]
  },
  {
   "cell_type": "markdown",
   "metadata": {
    "id": "wPDQ9EVDgxa6"
   },
   "source": [
    "### Let's look at a sample annotation. We see a bounding box with (x, y) of the the top left corner as well as the width and height."
   ]
  },
  {
   "cell_type": "code",
   "execution_count": 19,
   "metadata": {
    "colab": {
     "base_uri": "https://localhost:8080/"
    },
    "executionInfo": {
     "elapsed": 6,
     "status": "ok",
     "timestamp": 1648357204963,
     "user": {
      "displayName": "Hrishikesh K",
      "photoUrl": "https://lh3.googleusercontent.com/a/default-user=s64",
      "userId": "17100987462167337479"
     },
     "user_tz": -330
    },
    "id": "0xEc47Jz59x5",
    "outputId": "51b3f58d-2cdb-4f6c-f2e4-ead4bfa594aa"
   },
   "outputs": [
    {
     "data": {
      "text/plain": [
       "[]"
      ]
     },
     "execution_count": 19,
     "metadata": {},
     "output_type": "execute_result"
    }
   ],
   "source": [
    "# Show annotation(s) for a DICOM image \n",
    "test_fp = random.choice(image_fps_train)\n",
    "image_annotations[test_fp]"
   ]
  },
  {
   "cell_type": "code",
   "execution_count": 20,
   "metadata": {
    "executionInfo": {
     "elapsed": 3,
     "status": "ok",
     "timestamp": 1648357206952,
     "user": {
      "displayName": "Hrishikesh K",
      "photoUrl": "https://lh3.googleusercontent.com/a/default-user=s64",
      "userId": "17100987462167337479"
     },
     "user_tz": -330
    },
    "id": "K1TkWuGP0yHl"
   },
   "outputs": [],
   "source": [
    "# prepare the validation dataset\n",
    "dataset_val = DetectorDataset(image_fps_val, image_annotations, ORIG_SIZE, ORIG_SIZE)\n",
    "dataset_val.prepare()"
   ]
  },
  {
   "cell_type": "markdown",
   "metadata": {
    "id": "pEXEt8fygWuC"
   },
   "source": [
    "### Display a random image with bounding boxes"
   ]
  },
  {
   "cell_type": "code",
   "execution_count": 21,
   "metadata": {
    "colab": {
     "base_uri": "https://localhost:8080/",
     "height": 392
    },
    "executionInfo": {
     "elapsed": 1777,
     "status": "ok",
     "timestamp": 1648357211473,
     "user": {
      "displayName": "Hrishikesh K",
      "photoUrl": "https://lh3.googleusercontent.com/a/default-user=s64",
      "userId": "17100987462167337479"
     },
     "user_tz": -330
    },
    "id": "4xwsrf9G1lHR",
    "outputId": "3960e4ce-821f-44e8-fc26-e288cfbb0211"
   },
   "outputs": [
    {
     "name": "stderr",
     "output_type": "stream",
     "text": [
      "/usr/local/lib/python3.7/dist-packages/ipykernel_launcher.py:51: DeprecationWarning: `np.bool` is a deprecated alias for the builtin `bool`. To silence this warning, use `bool` by itself. Doing this will not modify any behavior and is safe. If you specifically wanted the numpy scalar type, use `np.bool_` here.\n",
      "Deprecated in NumPy 1.20; for more details and guidance: https://numpy.org/devdocs/release/1.20.0-notes.html#deprecations\n"
     ]
    },
    {
     "name": "stdout",
     "output_type": "stream",
     "text": [
      "(1024, 1024, 3)\n",
      "/content/drive/MyDrive/GL_Learning/Assignments/Captsone_Project/rsna-pneumonia-detection-challenge/stage_2_train_images/b057105f-8ea9-49af-97aa-cd6b5b7ba402.dcm\n",
      "[0]\n"
     ]
    },
    {
     "data": {
      "image/png": "[encoded data removed]",
      "text/plain": [
       "<Figure size 720x720 with 2 Axes>"
      ]
     },
     "metadata": {
      "needs_background": "light"
     },
     "output_type": "display_data"
    }
   ],
   "source": [
    "# Load and display random samples and their bounding boxes\n",
    "# Suggestion: Run this a few times to see different examples. \n",
    "\n",
    "image_id = random.choice(dataset_train.image_ids)\n",
    "image_fp = dataset_train.image_reference(image_id)\n",
    "image = dataset_train.load_image(image_id)\n",
    "mask, class_ids = dataset_train.load_mask(image_id)\n",
    "\n",
    "print(image.shape)\n",
    "\n",
    "plt.figure(figsize=(10, 10))\n",
    "plt.subplot(1, 2, 1)\n",
    "plt.imshow(image[:, :, 0], cmap='gray')\n",
    "plt.axis('off')\n",
    "\n",
    "plt.subplot(1, 2, 2)\n",
    "masked = np.zeros(image.shape[:2])\n",
    "for i in range(mask.shape[2]):\n",
    "    masked += image[:, :, 0] * mask[:, :, i]\n",
    "plt.imshow(masked, cmap='gray')\n",
    "plt.axis('off')\n",
    "\n",
    "print(image_fp)\n",
    "print(class_ids)"
   ]
  },
  {
   "cell_type": "code",
   "execution_count": 24,
   "metadata": {
    "colab": {
     "base_uri": "https://localhost:8080/"
    },
    "executionInfo": {
     "elapsed": 8553,
     "status": "ok",
     "timestamp": 1648357246641,
     "user": {
      "displayName": "Hrishikesh K",
      "photoUrl": "https://lh3.googleusercontent.com/a/default-user=s64",
      "userId": "17100987462167337479"
     },
     "user_tz": -330
    },
    "id": "geTvh0sU1lJo",
    "outputId": "87140477-ed0e-449a-c5f7-2b1fbe2bf421"
   },
   "outputs": [
    {
     "name": "stdout",
     "output_type": "stream",
     "text": [
      "WARNING:tensorflow:From /usr/local/lib/python3.7/dist-packages/tensorflow/python/framework/op_def_library.py:263: colocate_with (from tensorflow.python.framework.ops) is deprecated and will be removed in a future version.\n",
      "Instructions for updating:\n",
      "Colocations handled automatically by placer.\n",
      "WARNING:tensorflow:From /usr/local/lib/python3.7/dist-packages/keras/backend/tensorflow_backend.py:1154: calling reduce_max_v1 (from tensorflow.python.ops.math_ops) with keep_dims is deprecated and will be removed in a future version.\n",
      "Instructions for updating:\n",
      "keep_dims is deprecated, use keepdims instead\n",
      "WARNING:tensorflow:From /usr/local/lib/python3.7/dist-packages/keras/backend/tensorflow_backend.py:1188: calling reduce_sum_v1 (from tensorflow.python.ops.math_ops) with keep_dims is deprecated and will be removed in a future version.\n",
      "Instructions for updating:\n",
      "keep_dims is deprecated, use keepdims instead\n"
     ]
    }
   ],
   "source": [
    "model = modellib.MaskRCNN(mode='training', config=config, model_dir=MODEL_DIR)"
   ]
  },
  {
   "cell_type": "markdown",
   "metadata": {
    "id": "ustAIH78hZI_"
   },
   "source": [
    "### Image Augmentation. Try finetuning some variables to custom values"
   ]
  },
  {
   "cell_type": "code",
   "execution_count": 22,
   "metadata": {
    "executionInfo": {
     "elapsed": 766,
     "status": "ok",
     "timestamp": 1648357219323,
     "user": {
      "displayName": "Hrishikesh K",
      "photoUrl": "https://lh3.googleusercontent.com/a/default-user=s64",
      "userId": "17100987462167337479"
     },
     "user_tz": -330
    },
    "id": "STZnQTE61lME"
   },
   "outputs": [],
   "source": [
    "# Image augmentation \n",
    "augmentation = iaa.SomeOf((0, 1), [\n",
    "    iaa.Fliplr(0.5),\n",
    "    iaa.Affine(\n",
    "        scale={\"x\": (0.8, 1.2), \"y\": (0.8, 1.2)},\n",
    "        translate_percent={\"x\": (-0.2, 0.2), \"y\": (-0.2, 0.2)},\n",
    "        rotate=(-25, 25),\n",
    "        shear=(-8, 8)\n",
    "    ),\n",
    "    iaa.Multiply((0.9, 1.1))\n",
    "])"
   ]
  },
  {
   "cell_type": "markdown",
   "metadata": {
    "id": "M4kt7LKuc78e"
   },
   "source": [
    "### Now it's time to train the model. Note that training even a basic model can take a few hours. \n",
    "\n",
    "Note: the following model is for demonstration purpose only. We have limited the training to one epoch, and have set nominal values for the Detector Configuration to reduce run-time. \n",
    "\n",
    "- dataset_train and dataset_val are derived from DetectorDataset \n",
    "- DetectorDataset loads images from image filenames and  masks from the annotation data\n",
    "- model is Mask-RCNN"
   ]
  },
  {
   "cell_type": "code",
   "execution_count": null,
   "metadata": {
    "colab": {
     "base_uri": "https://localhost:8080/"
    },
    "id": "q5tiLTEfxolU",
    "outputId": "ee66b560-a8ef-47d0-fbe1-881ca7458250"
   },
   "outputs": [
    {
     "name": "stdout",
     "output_type": "stream",
     "text": [
      "1.13.1\n"
     ]
    }
   ],
   "source": [
    "import tensorflow as tf\n",
    "print(tf.__version__)"
   ]
  },
  {
   "cell_type": "code",
   "execution_count": null,
   "metadata": {
    "colab": {
     "base_uri": "https://localhost:8080/"
    },
    "id": "3HVALiGt6g9A",
    "outputId": "ea87ea22-8066-4817-b6c5-566141988130"
   },
   "outputs": [
    {
     "name": "stdout",
     "output_type": "stream",
     "text": [
      "Num GPUs Available:  0\n",
      "\n"
     ]
    }
   ],
   "source": [
    "print(\"Num GPUs Available: \", len(tf.config.list_physical_devices('GPU')))\n",
    "device_name = tf.test.gpu_device_name()\n",
    "print(device_name)"
   ]
  },
  {
   "cell_type": "code",
   "execution_count": 25,
   "metadata": {
    "colab": {
     "base_uri": "https://localhost:8080/"
    },
    "executionInfo": {
     "elapsed": 8200777,
     "status": "ok",
     "timestamp": 1648365452375,
     "user": {
      "displayName": "Hrishikesh K",
      "photoUrl": "https://lh3.googleusercontent.com/a/default-user=s64",
      "userId": "17100987462167337479"
     },
     "user_tz": -330
    },
    "id": "RVgNhHjl1lOS",
    "outputId": "d38b4b0a-c3b8-44cb-a2f5-c27761c516bc"
   },
   "outputs": [
    {
     "name": "stdout",
     "output_type": "stream",
     "text": [
      "\n",
      "Starting at epoch 0. LR=0.001\n",
      "\n",
      "Checkpoint Path: /content/drive/MyDrive/GL_Learning/Assignments/Captsone_Project/rsna-pneumonia-detection-challenge/logs/pneumonia20220327T0500/mask_rcnn_pneumonia_{epoch:04d}.h5\n",
      "Selecting layers to train\n",
      "conv1                  (Conv2D)\n",
      "bn_conv1               (BatchNorm)\n",
      "res2a_branch2a         (Conv2D)\n",
      "bn2a_branch2a          (BatchNorm)\n",
      "res2a_branch2b         (Conv2D)\n",
      "bn2a_branch2b          (BatchNorm)\n",
      "res2a_branch2c         (Conv2D)\n",
      "res2a_branch1          (Conv2D)\n",
      "bn2a_branch2c          (BatchNorm)\n",
      "bn2a_branch1           (BatchNorm)\n",
      "res2b_branch2a         (Conv2D)\n",
      "bn2b_branch2a          (BatchNorm)\n",
      "res2b_branch2b         (Conv2D)\n",
      "bn2b_branch2b          (BatchNorm)\n",
      "res2b_branch2c         (Conv2D)\n",
      "bn2b_branch2c          (BatchNorm)\n",
      "res2c_branch2a         (Conv2D)\n",
      "bn2c_branch2a          (BatchNorm)\n",
      "res2c_branch2b         (Conv2D)\n",
      "bn2c_branch2b          (BatchNorm)\n",
      "res2c_branch2c         (Conv2D)\n",
      "bn2c_branch2c          (BatchNorm)\n",
      "res3a_branch2a         (Conv2D)\n",
      "bn3a_branch2a          (BatchNorm)\n",
      "res3a_branch2b         (Conv2D)\n",
      "bn3a_branch2b          (BatchNorm)\n",
      "res3a_branch2c         (Conv2D)\n",
      "res3a_branch1          (Conv2D)\n",
      "bn3a_branch2c          (BatchNorm)\n",
      "bn3a_branch1           (BatchNorm)\n",
      "res3b_branch2a         (Conv2D)\n",
      "bn3b_branch2a          (BatchNorm)\n",
      "res3b_branch2b         (Conv2D)\n",
      "bn3b_branch2b          (BatchNorm)\n",
      "res3b_branch2c         (Conv2D)\n",
      "bn3b_branch2c          (BatchNorm)\n",
      "res3c_branch2a         (Conv2D)\n",
      "bn3c_branch2a          (BatchNorm)\n",
      "res3c_branch2b         (Conv2D)\n",
      "bn3c_branch2b          (BatchNorm)\n",
      "res3c_branch2c         (Conv2D)\n",
      "bn3c_branch2c          (BatchNorm)\n",
      "res3d_branch2a         (Conv2D)\n",
      "bn3d_branch2a          (BatchNorm)\n",
      "res3d_branch2b         (Conv2D)\n",
      "bn3d_branch2b          (BatchNorm)\n",
      "res3d_branch2c         (Conv2D)\n",
      "bn3d_branch2c          (BatchNorm)\n",
      "res4a_branch2a         (Conv2D)\n",
      "bn4a_branch2a          (BatchNorm)\n",
      "res4a_branch2b         (Conv2D)\n",
      "bn4a_branch2b          (BatchNorm)\n",
      "res4a_branch2c         (Conv2D)\n",
      "res4a_branch1          (Conv2D)\n",
      "bn4a_branch2c          (BatchNorm)\n",
      "bn4a_branch1           (BatchNorm)\n",
      "res4b_branch2a         (Conv2D)\n",
      "bn4b_branch2a          (BatchNorm)\n",
      "res4b_branch2b         (Conv2D)\n",
      "bn4b_branch2b          (BatchNorm)\n",
      "res4b_branch2c         (Conv2D)\n",
      "bn4b_branch2c          (BatchNorm)\n",
      "res4c_branch2a         (Conv2D)\n",
      "bn4c_branch2a          (BatchNorm)\n",
      "res4c_branch2b         (Conv2D)\n",
      "bn4c_branch2b          (BatchNorm)\n",
      "res4c_branch2c         (Conv2D)\n",
      "bn4c_branch2c          (BatchNorm)\n",
      "res4d_branch2a         (Conv2D)\n",
      "bn4d_branch2a          (BatchNorm)\n",
      "res4d_branch2b         (Conv2D)\n",
      "bn4d_branch2b          (BatchNorm)\n",
      "res4d_branch2c         (Conv2D)\n",
      "bn4d_branch2c          (BatchNorm)\n",
      "res4e_branch2a         (Conv2D)\n",
      "bn4e_branch2a          (BatchNorm)\n",
      "res4e_branch2b         (Conv2D)\n",
      "bn4e_branch2b          (BatchNorm)\n",
      "res4e_branch2c         (Conv2D)\n",
      "bn4e_branch2c          (BatchNorm)\n",
      "res4f_branch2a         (Conv2D)\n",
      "bn4f_branch2a          (BatchNorm)\n",
      "res4f_branch2b         (Conv2D)\n",
      "bn4f_branch2b          (BatchNorm)\n",
      "res4f_branch2c         (Conv2D)\n",
      "bn4f_branch2c          (BatchNorm)\n",
      "res5a_branch2a         (Conv2D)\n",
      "bn5a_branch2a          (BatchNorm)\n",
      "res5a_branch2b         (Conv2D)\n",
      "bn5a_branch2b          (BatchNorm)\n",
      "res5a_branch2c         (Conv2D)\n",
      "res5a_branch1          (Conv2D)\n",
      "bn5a_branch2c          (BatchNorm)\n",
      "bn5a_branch1           (BatchNorm)\n",
      "res5b_branch2a         (Conv2D)\n",
      "bn5b_branch2a          (BatchNorm)\n",
      "res5b_branch2b         (Conv2D)\n",
      "bn5b_branch2b          (BatchNorm)\n",
      "res5b_branch2c         (Conv2D)\n",
      "bn5b_branch2c          (BatchNorm)\n",
      "res5c_branch2a         (Conv2D)\n",
      "bn5c_branch2a          (BatchNorm)\n",
      "res5c_branch2b         (Conv2D)\n",
      "bn5c_branch2b          (BatchNorm)\n",
      "res5c_branch2c         (Conv2D)\n",
      "bn5c_branch2c          (BatchNorm)\n",
      "fpn_c5p5               (Conv2D)\n",
      "fpn_c4p4               (Conv2D)\n",
      "fpn_c3p3               (Conv2D)\n",
      "fpn_c2p2               (Conv2D)\n",
      "fpn_p5                 (Conv2D)\n",
      "fpn_p2                 (Conv2D)\n",
      "fpn_p3                 (Conv2D)\n",
      "fpn_p4                 (Conv2D)\n",
      "In model:  rpn_model\n",
      "    rpn_conv_shared        (Conv2D)\n",
      "    rpn_class_raw          (Conv2D)\n",
      "    rpn_bbox_pred          (Conv2D)\n",
      "mrcnn_mask_conv1       (TimeDistributed)\n",
      "mrcnn_mask_bn1         (TimeDistributed)\n",
      "mrcnn_mask_conv2       (TimeDistributed)\n",
      "mrcnn_mask_bn2         (TimeDistributed)\n",
      "mrcnn_class_conv1      (TimeDistributed)\n",
      "mrcnn_class_bn1        (TimeDistributed)\n",
      "mrcnn_mask_conv3       (TimeDistributed)\n",
      "mrcnn_mask_bn3         (TimeDistributed)\n",
      "mrcnn_class_conv2      (TimeDistributed)\n",
      "mrcnn_class_bn2        (TimeDistributed)\n",
      "mrcnn_mask_conv4       (TimeDistributed)\n",
      "mrcnn_mask_bn4         (TimeDistributed)\n",
      "mrcnn_bbox_fc          (TimeDistributed)\n",
      "mrcnn_mask_deconv      (TimeDistributed)\n",
      "mrcnn_class_logits     (TimeDistributed)\n",
      "mrcnn_mask             (TimeDistributed)\n",
      "WARNING:tensorflow:From /usr/local/lib/python3.7/dist-packages/tensorflow/python/ops/math_ops.py:3066: to_int32 (from tensorflow.python.ops.math_ops) is deprecated and will be removed in a future version.\n",
      "Instructions for updating:\n",
      "Use tf.cast instead.\n",
      "Epoch 1/2\n",
      "100/100 [==============================] - 4663s - loss: 3.1292 - rpn_class_loss: 0.5609 - rpn_bbox_loss: 0.9011 - mrcnn_class_loss: 0.3415 - mrcnn_bbox_loss: 0.6746 - mrcnn_mask_loss: 0.6510 - val_loss: 2.6527 - val_rpn_class_loss: 0.3659 - val_rpn_bbox_loss: 0.8617 - val_mrcnn_class_loss: 0.2797 - val_mrcnn_bbox_loss: 0.5783 - val_mrcnn_mask_loss: 0.5670\n",
      "Epoch 2/2\n",
      "100/100 [==============================] - 3512s - loss: 2.1330 - rpn_class_loss: 0.2755 - rpn_bbox_loss: 0.5221 - mrcnn_class_loss: 0.2761 - mrcnn_bbox_loss: 0.5023 - mrcnn_mask_loss: 0.5569 - val_loss: 2.4773 - val_rpn_class_loss: 0.2901 - val_rpn_bbox_loss: 0.7931 - val_mrcnn_class_loss: 0.2682 - val_mrcnn_bbox_loss: 0.5986 - val_mrcnn_mask_loss: 0.5273\n"
     ]
    }
   ],
   "source": [
    "NUM_EPOCHS = 2\n",
    "\n",
    "# Train Mask-RCNN Model \n",
    "import warnings \n",
    "warnings.filterwarnings(\"ignore\")\n",
    "model.train(dataset_train, dataset_val, \n",
    "            learning_rate=config.LEARNING_RATE, \n",
    "            epochs=NUM_EPOCHS, \n",
    "            layers='all',\n",
    "            augmentation=augmentation)"
   ]
  },
  {
   "cell_type": "code",
   "execution_count": null,
   "metadata": {
    "id": "ajqV2e0Y8pnK"
   },
   "outputs": [],
   "source": [
    "# watch nvidia-smi, To match Gpu usage"
   ]
  },
  {
   "cell_type": "code",
   "execution_count": 26,
   "metadata": {
    "colab": {
     "base_uri": "https://localhost:8080/"
    },
    "executionInfo": {
     "elapsed": 401,
     "status": "ok",
     "timestamp": 1648366254998,
     "user": {
      "displayName": "Hrishikesh K",
      "photoUrl": "https://lh3.googleusercontent.com/a/default-user=s64",
      "userId": "17100987462167337479"
     },
     "user_tz": -330
    },
    "id": "eraRlzgPmmIZ",
    "outputId": "924cf67a-2751-45da-a736-4d908ddda3b9"
   },
   "outputs": [
    {
     "name": "stdout",
     "output_type": "stream",
     "text": [
      "No weight files in /content/drive/MyDrive/GL_Learning/Assignments/Captsone_Project/rsna-pneumonia-detection-challenge/logs/pneumonia20220326T1541\n",
      "No weight files in /content/drive/MyDrive/GL_Learning/Assignments/Captsone_Project/rsna-pneumonia-detection-challenge/logs/pneumonia20220326T1633\n",
      "Found model /content/drive/MyDrive/GL_Learning/Assignments/Captsone_Project/rsna-pneumonia-detection-challenge/logs/pneumonia20220327T0500/mask_rcnn_pneumonia_0001.h5\n"
     ]
    }
   ],
   "source": [
    "# select trained model \n",
    "dir_names = next(os.walk(model.model_dir))[1]\n",
    "key = config.NAME.lower()\n",
    "dir_names = filter(lambda f: f.startswith(key), dir_names)\n",
    "dir_names = sorted(dir_names)\n",
    "\n",
    "if not dir_names:\n",
    "    import errno\n",
    "    raise FileNotFoundError(\n",
    "        errno.ENOENT,\n",
    "        \"Could not find model directory under {}\".format(self.model_dir))\n",
    "    \n",
    "fps = []\n",
    "# Pick last directory\n",
    "for d in dir_names: \n",
    "    dir_name = os.path.join(model.model_dir, d)\n",
    "    # Find the last checkpoint\n",
    "    checkpoints = next(os.walk(dir_name))[2]\n",
    "    checkpoints = filter(lambda f: f.startswith(\"mask_rcnn\"), checkpoints)\n",
    "    checkpoints = sorted(checkpoints)\n",
    "    if not checkpoints:\n",
    "        print('No weight files in {}'.format(dir_name))\n",
    "    else: \n",
    "      \n",
    "      checkpoint = os.path.join(dir_name, checkpoints[-1])\n",
    "      fps.append(checkpoint)\n",
    "\n",
    "model_path = sorted(fps)[-1]\n",
    "print('Found model {}'.format(model_path))"
   ]
  },
  {
   "cell_type": "code",
   "execution_count": 27,
   "metadata": {
    "colab": {
     "base_uri": "https://localhost:8080/"
    },
    "executionInfo": {
     "elapsed": 15868,
     "status": "ok",
     "timestamp": 1648366291678,
     "user": {
      "displayName": "Hrishikesh K",
      "photoUrl": "https://lh3.googleusercontent.com/a/default-user=s64",
      "userId": "17100987462167337479"
     },
     "user_tz": -330
    },
    "id": "TgpT9AzC2Bgz",
    "outputId": "00c1965e-1c58-410c-890b-823f6579b650"
   },
   "outputs": [
    {
     "name": "stdout",
     "output_type": "stream",
     "text": [
      "WARNING:tensorflow:From /content/drive/MyDrive/GL_Learning/Assignments/Captsone_Project/rsna-pneumonia-detection-challenge/Mask_RCNN_old/mrcnn/model.py:772: to_float (from tensorflow.python.ops.math_ops) is deprecated and will be removed in a future version.\n",
      "Instructions for updating:\n",
      "Use tf.cast instead.\n",
      "Loading weights from  /content/drive/MyDrive/GL_Learning/Assignments/Captsone_Project/rsna-pneumonia-detection-challenge/logs/pneumonia20220327T0500/mask_rcnn_pneumonia_0001.h5\n",
      "Re-starting from epoch 1\n"
     ]
    }
   ],
   "source": [
    "class InferenceConfig(DetectorConfig):\n",
    "    GPU_COUNT = 1\n",
    "    IMAGES_PER_GPU = 1\n",
    "\n",
    "inference_config = InferenceConfig()\n",
    "\n",
    "# Recreate the model in inference mode\n",
    "model = modellib.MaskRCNN(mode='inference', \n",
    "                          config=inference_config,\n",
    "                          model_dir=MODEL_DIR)\n",
    "\n",
    "# Load trained weights (fill in path to trained weights here)\n",
    "assert model_path != \"\", \"/content/drive/MyDrive/GL_Learning/Assignments/Captsone_Project/rsna-pneumonia-detection-challenge/logs/pneumonia20220327T0500/mask_rcnn_pneumonia_0001.h5\"\n",
    "print(\"Loading weights from \", model_path)\n",
    "model.load_weights(model_path, by_name=True)"
   ]
  },
  {
   "cell_type": "code",
   "execution_count": null,
   "metadata": {
    "id": "9mTBig7D2BjU"
   },
   "outputs": [],
   "source": [
    "# set color for class\n",
    "def get_colors_for_class_ids(class_ids):\n",
    "    colors = []\n",
    "    for class_id in class_ids:\n",
    "        if class_id == 1:\n",
    "            colors.append((.941, .204, .204))\n",
    "    return colors"
   ]
  },
  {
   "cell_type": "markdown",
   "metadata": {
    "id": "A8EiL2LOiCr_"
   },
   "source": [
    "### How does the predicted box compared to the expected value? Let's use the validation dataset to check. \n",
    "\n",
    "Note that we trained only one epoch for **demonstration purposes ONLY**. You might be able to improve performance running more epochs. "
   ]
  },
  {
   "cell_type": "code",
   "execution_count": null,
   "metadata": {
    "colab": {
     "base_uri": "https://localhost:8080/",
     "height": 945
    },
    "id": "irheTbrW2Bl0",
    "outputId": "29037b91-3b36-4384-aa81-229167a7ba5e"
   },
   "outputs": [
    {
     "name": "stderr",
     "output_type": "stream",
     "text": [
      "/usr/local/lib/python3.7/dist-packages/ipykernel_launcher.py:51: DeprecationWarning: `np.bool` is a deprecated alias for the builtin `bool`. To silence this warning, use `bool` by itself. Doing this will not modify any behavior and is safe. If you specifically wanted the numpy scalar type, use `np.bool_` here.\n",
      "Deprecated in NumPy 1.20; for more details and guidance: https://numpy.org/devdocs/release/1.20.0-notes.html#deprecations\n"
     ]
    },
    {
     "name": "stdout",
     "output_type": "stream",
     "text": [
      "\n",
      "*** No instances to display *** \n",
      "\n",
      "Original_class: Lung Opacity\n",
      "Predicted_class: []\n",
      "0.0\n",
      "\n",
      "*** No instances to display *** \n",
      "\n",
      "\n",
      "*** No instances to display *** \n",
      "\n"
     ]
    },
    {
     "name": "stderr",
     "output_type": "stream",
     "text": [
      "/usr/local/lib/python3.7/dist-packages/ipykernel_launcher.py:51: DeprecationWarning: `np.bool` is a deprecated alias for the builtin `bool`. To silence this warning, use `bool` by itself. Doing this will not modify any behavior and is safe. If you specifically wanted the numpy scalar type, use `np.bool_` here.\n",
      "Deprecated in NumPy 1.20; for more details and guidance: https://numpy.org/devdocs/release/1.20.0-notes.html#deprecations\n"
     ]
    },
    {
     "name": "stdout",
     "output_type": "stream",
     "text": [
      "Original_class: Lung Opacity\n",
      "Predicted_class: [1]\n",
      "nan\n",
      "mAP:  nan\n"
     ]
    },
    {
     "name": "stderr",
     "output_type": "stream",
     "text": [
      "/content/drive/MyDrive/GL_Learning/Assignments/Captsone_Project/rsna-pneumonia-detection-challenge/Mask_RCNN_old/mrcnn/utils.py:734: RuntimeWarning: invalid value encountered in true_divide\n",
      "  recalls = np.cumsum(pred_match > -1).astype(np.float32) / len(gt_match)\n"
     ]
    },
    {
     "data": {
      "image/png": "[encoded data removed]",
      "text/plain": [
       "<Figure size 720x2160 with 4 Axes>"
      ]
     },
     "metadata": {
      "needs_background": "light"
     },
     "output_type": "display_data"
    }
   ],
   "source": [
    "# Show few example of ground truth vs. predictions on the validation dataset \n",
    "dataset = dataset_val\n",
    "fig = plt.figure(figsize=(10, 30))\n",
    "\n",
    "APs = []\n",
    "\n",
    "for i in range(0,2):\n",
    "\n",
    "#    image_id = random.choice(dataset.image_ids)\n",
    "    image_id = dataset.image_ids[i]\n",
    "    \n",
    "    original_image, image_meta, gt_class_id, gt_bbox, gt_mask =\\\n",
    "        modellib.load_image_gt(dataset_val, inference_config, \n",
    "                               image_id, use_mini_mask=False)\n",
    "        \n",
    "    plt.subplot(6, 2, 2*i + 1)\n",
    "    visualize.display_instances(original_image, gt_bbox, gt_mask, gt_class_id, \n",
    "                                dataset.class_names,\n",
    "                                colors=get_colors_for_class_ids(gt_class_id), ax=fig.axes[-1])\n",
    "    \n",
    "    plt.subplot(6, 2, 2*i + 2)\n",
    "    results = model.detect([original_image]) #, verbose=1)\n",
    "    r = results[0]\n",
    "    print(\"Original_class:\", dataset.class_names[1])\n",
    "    print(\"Predicted_class:\",r[\"class_ids\"])\n",
    "    AP, precisions, recalls, overlaps =\\\n",
    "        utils.compute_ap(gt_bbox, gt_class_id, gt_mask,\n",
    "                         r[\"rois\"], r[\"class_ids\"], r[\"scores\"], r['masks'])\n",
    "    print(AP)\n",
    "    APs.append(AP)\n",
    "\n",
    "    visualize.display_instances(original_image, r['rois'], r['masks'], r['class_ids'], \n",
    "                                dataset.class_names, r['scores'], \n",
    "                                colors=get_colors_for_class_ids(r['class_ids']), ax=fig.axes[-1])\n",
    "\n",
    "print(\"mAP: \", np.mean(APs))"
   ]
  },
  {
   "cell_type": "code",
   "execution_count": null,
   "metadata": {
    "id": "qRWBVJKYNdWM"
   },
   "outputs": [],
   "source": [
    "# Get filenames of test dataset DICOM images\n",
    "test_image_fps = get_dicom_fps(train_dicom_dir)"
   ]
  },
  {
   "cell_type": "code",
   "execution_count": null,
   "metadata": {
    "id": "C6UWVrbM2Bob"
   },
   "outputs": [],
   "source": [
    "# Make predictions on test images, write out sample submission \n",
    "def predict(image_fps, filepath='sample_submission.csv', min_conf=0.98): \n",
    "    \n",
    "    # assume square image\n",
    "    \n",
    "    with open(filepath, 'w') as file:\n",
    "      for image_id in tqdm(image_fps): \n",
    "        ds = pydicom.read_file(image_id)\n",
    "        image = ds.pixel_array\n",
    "          \n",
    "        # If grayscale. Convert to RGB for consistency.\n",
    "        if len(image.shape) != 3 or image.shape[2] != 3:\n",
    "            image = np.stack((image,) * 3, -1) \n",
    "            \n",
    "        patient_id = os.path.splitext(os.path.basename(image_id))[0]\n",
    "\n",
    "        original_image, image_meta, gt_class_id, gt_bbox, gt_mask =\\\n",
    "                modellib.load_image_gt(dataset_val, inference_config, \n",
    "                                      image_id, use_mini_mask=False)\n",
    "        results = model.detect([image])\n",
    "        r = results[0]\n",
    "\n",
    "        out_str = \"\"\n",
    "        out_str += patient_id \n",
    "        assert( len(r['rois']) == len(r['class_ids']) == len(r['scores']) )\n",
    "        if len(r['rois']) == 0: \n",
    "            pass\n",
    "        else: \n",
    "            num_instances = len(r['rois'])\n",
    "            out_str += \",\"\n",
    "            for i in range(num_instances): \n",
    "                if r['scores'][i] > min_conf: \n",
    "                    out_str += ' '\n",
    "                    out_str += str(round(r['scores'][i], 2))\n",
    "                    out_str += ' '\n",
    "\n",
    "                    # x1, y1, width, height \n",
    "                    x1 = r['rois'][i][1]\n",
    "                    y1 = r['rois'][i][0]\n",
    "                    width = r['rois'][i][3] - x1 \n",
    "                    height = r['rois'][i][2] - y1 \n",
    "                    bboxes_str = \"{} {} {} {}\".format(x1, y1, \\\n",
    "                                                      width, height)    \n",
    "                    out_str += bboxes_str\n",
    "\n",
    "        file.write(out_str+\"\\n\")"
   ]
  },
  {
   "cell_type": "code",
   "execution_count": null,
   "metadata": {
    "colab": {
     "base_uri": "https://localhost:8080/"
    },
    "id": "C5cBpNka2Bsv",
    "outputId": "66fcdfcd-d21f-40d2-a6d5-ed6dbe0c010d"
   },
   "outputs": [
    {
     "name": "stderr",
     "output_type": "stream",
     "text": [
      "100%|██████████| 50/50 [00:44<00:00,  1.12it/s]\n"
     ]
    }
   ],
   "source": [
    "# predict only the first 50 entries\n",
    "APs = []\n",
    "sample_submission_fp = 'sample_submission.csv'\n",
    "predict(test_image_fps[:50], filepath=sample_submission_fp)"
   ]
  },
  {
   "cell_type": "code",
   "execution_count": null,
   "metadata": {
    "colab": {
     "base_uri": "https://localhost:8080/",
     "height": 1000
    },
    "id": "_BjPE_Ee9rbA",
    "outputId": "0402818c-be15-44ff-9a8c-dab86f8b17ed"
   },
   "outputs": [
    {
     "data": {
      "text/html": [
       "\n",
       "  <div id=\"df-df30bd68-cd1c-4b13-ad67-799e3764cc01\">\n",
       "    <div class=\"colab-df-container\">\n",
       "      <div>\n",
       "<style scoped>\n",
       "    .dataframe tbody tr th:only-of-type {\n",
       "        vertical-align: middle;\n",
       "    }\n",
       "\n",
       "    .dataframe tbody tr th {\n",
       "        vertical-align: top;\n",
       "    }\n",
       "\n",
       "    .dataframe thead th {\n",
       "        text-align: right;\n",
       "    }\n",
       "</style>\n",
       "<table border=\"1\" class=\"dataframe\">\n",
       "  <thead>\n",
       "    <tr style=\"text-align: right;\">\n",
       "      <th></th>\n",
       "      <th>id</th>\n",
       "      <th>pred_string</th>\n",
       "    </tr>\n",
       "  </thead>\n",
       "  <tbody>\n",
       "    <tr>\n",
       "      <th>0</th>\n",
       "      <td>21cfe0df-22f3-44c5-98d1-3f807433d26b</td>\n",
       "      <td>NaN</td>\n",
       "    </tr>\n",
       "    <tr>\n",
       "      <th>1</th>\n",
       "      <td>2c803f00-663c-483e-beee-4b8f1f710f9b</td>\n",
       "      <td>NaN</td>\n",
       "    </tr>\n",
       "    <tr>\n",
       "      <th>2</th>\n",
       "      <td>0de14fa9-8f75-4e50-abda-1e5414b06e0d</td>\n",
       "      <td>NaN</td>\n",
       "    </tr>\n",
       "    <tr>\n",
       "      <th>3</th>\n",
       "      <td>2eda18e3-c271-4085-a599-92dda93b2b1f</td>\n",
       "      <td>NaN</td>\n",
       "    </tr>\n",
       "    <tr>\n",
       "      <th>4</th>\n",
       "      <td>0ec5b804-19f7-4c99-a8a1-feb091908447</td>\n",
       "      <td>NaN</td>\n",
       "    </tr>\n",
       "    <tr>\n",
       "      <th>5</th>\n",
       "      <td>0f162616-cc4a-46fe-a7a9-3637fa8889f5</td>\n",
       "      <td>NaN</td>\n",
       "    </tr>\n",
       "    <tr>\n",
       "      <th>6</th>\n",
       "      <td>2c4d9d50-bb03-4d73-b972-4f9ca8b90661</td>\n",
       "      <td>NaN</td>\n",
       "    </tr>\n",
       "    <tr>\n",
       "      <th>7</th>\n",
       "      <td>1a4d2d2f-34c8-42cb-a432-9c46bb7a8988</td>\n",
       "      <td>NaN</td>\n",
       "    </tr>\n",
       "    <tr>\n",
       "      <th>8</th>\n",
       "      <td>2ffcb353-6d57-4242-bd0f-7840d55a8906</td>\n",
       "      <td>NaN</td>\n",
       "    </tr>\n",
       "    <tr>\n",
       "      <th>9</th>\n",
       "      <td>211b7ec9-80a6-466d-961c-66bcad202137</td>\n",
       "      <td>NaN</td>\n",
       "    </tr>\n",
       "    <tr>\n",
       "      <th>10</th>\n",
       "      <td>108adcb0-0301-4db1-ac26-3c38e8fd388a</td>\n",
       "      <td>0.99 614 374 262 362</td>\n",
       "    </tr>\n",
       "    <tr>\n",
       "      <th>11</th>\n",
       "      <td>24a968f6-bd26-4ef1-90b7-ca75df777e56</td>\n",
       "      <td>NaN</td>\n",
       "    </tr>\n",
       "    <tr>\n",
       "      <th>12</th>\n",
       "      <td>1a65e7f7-d13e-4dda-b680-be66a4db6a2a</td>\n",
       "      <td>NaN</td>\n",
       "    </tr>\n",
       "    <tr>\n",
       "      <th>13</th>\n",
       "      <td>2b2a11b2-12b5-48ce-9b3b-39c91f8a691d</td>\n",
       "      <td>NaN</td>\n",
       "    </tr>\n",
       "    <tr>\n",
       "      <th>14</th>\n",
       "      <td>2c5ecaa4-5235-43e9-8a7f-83b4f62e683a</td>\n",
       "      <td>NaN</td>\n",
       "    </tr>\n",
       "    <tr>\n",
       "      <th>15</th>\n",
       "      <td>010355fd-a8c0-4503-993e-16412a3b8136</td>\n",
       "      <td>NaN</td>\n",
       "    </tr>\n",
       "    <tr>\n",
       "      <th>16</th>\n",
       "      <td>2ee5e42f-f14c-4af2-b04d-631c27674dae</td>\n",
       "      <td>NaN</td>\n",
       "    </tr>\n",
       "    <tr>\n",
       "      <th>17</th>\n",
       "      <td>207108d9-45b6-42a0-a967-d15cc7c3bf73</td>\n",
       "      <td>NaN</td>\n",
       "    </tr>\n",
       "    <tr>\n",
       "      <th>18</th>\n",
       "      <td>1fcbe192-08ca-4ec9-b80a-fbde810c24a8</td>\n",
       "      <td>NaN</td>\n",
       "    </tr>\n",
       "    <tr>\n",
       "      <th>19</th>\n",
       "      <td>2b111931-60e8-4281-8f76-a7181ae96837</td>\n",
       "      <td>NaN</td>\n",
       "    </tr>\n",
       "    <tr>\n",
       "      <th>20</th>\n",
       "      <td>1307e549-4650-408e-b731-9a8b07b8087d</td>\n",
       "      <td>NaN</td>\n",
       "    </tr>\n",
       "    <tr>\n",
       "      <th>21</th>\n",
       "      <td>0076e68b-90cf-45da-a839-e67d3131182b</td>\n",
       "      <td>NaN</td>\n",
       "    </tr>\n",
       "    <tr>\n",
       "      <th>22</th>\n",
       "      <td>1eb1be4c-db1d-4b3a-80f1-e80a65a177b7</td>\n",
       "      <td>NaN</td>\n",
       "    </tr>\n",
       "    <tr>\n",
       "      <th>23</th>\n",
       "      <td>29048813-5b20-4aba-bfcb-8eed053e3e53</td>\n",
       "      <td>NaN</td>\n",
       "    </tr>\n",
       "    <tr>\n",
       "      <th>24</th>\n",
       "      <td>30b8ba34-b0b3-4def-8b28-a169221d755c</td>\n",
       "      <td>NaN</td>\n",
       "    </tr>\n",
       "    <tr>\n",
       "      <th>25</th>\n",
       "      <td>230a141e-7c8f-4afb-bda0-a54d08baeb16</td>\n",
       "      <td>NaN</td>\n",
       "    </tr>\n",
       "    <tr>\n",
       "      <th>26</th>\n",
       "      <td>257e34f1-f461-45fd-ab15-ec4cbfada52a</td>\n",
       "      <td>NaN</td>\n",
       "    </tr>\n",
       "    <tr>\n",
       "      <th>27</th>\n",
       "      <td>1eca6e1f-ed7f-4acd-bafe-732ca767832d</td>\n",
       "      <td>NaN</td>\n",
       "    </tr>\n",
       "    <tr>\n",
       "      <th>28</th>\n",
       "      <td>1b157958-b600-4aa7-98d6-f711a333d3f7</td>\n",
       "      <td>NaN</td>\n",
       "    </tr>\n",
       "    <tr>\n",
       "      <th>29</th>\n",
       "      <td>1f12de2d-3ab9-42d1-b68c-1d9af65c3e76</td>\n",
       "      <td>NaN</td>\n",
       "    </tr>\n",
       "    <tr>\n",
       "      <th>30</th>\n",
       "      <td>c031834b-2296-4991-ac96-8495ee9a1231</td>\n",
       "      <td>NaN</td>\n",
       "    </tr>\n",
       "    <tr>\n",
       "      <th>31</th>\n",
       "      <td>037ed56b-77ae-4084-a0d3-26be1d8a46dd</td>\n",
       "      <td>NaN</td>\n",
       "    </tr>\n",
       "    <tr>\n",
       "      <th>32</th>\n",
       "      <td>23f2d686-d5a9-4ce2-89b4-c0c3914fe3fd</td>\n",
       "      <td>NaN</td>\n",
       "    </tr>\n",
       "    <tr>\n",
       "      <th>33</th>\n",
       "      <td>1ec51b9a-c8bf-42ee-af6b-26081365724a</td>\n",
       "      <td>NaN</td>\n",
       "    </tr>\n",
       "    <tr>\n",
       "      <th>34</th>\n",
       "      <td>231abfb6-8c40-43dd-923a-ee88d540ef50</td>\n",
       "      <td>NaN</td>\n",
       "    </tr>\n",
       "    <tr>\n",
       "      <th>35</th>\n",
       "      <td>0fb8908c-5485-472a-bffc-08a7f42c18ca</td>\n",
       "      <td>NaN</td>\n",
       "    </tr>\n",
       "    <tr>\n",
       "      <th>36</th>\n",
       "      <td>2ff722c0-839c-4a62-b695-503f776f205e</td>\n",
       "      <td>NaN</td>\n",
       "    </tr>\n",
       "    <tr>\n",
       "      <th>37</th>\n",
       "      <td>2d15cca5-bd2a-433e-9dd4-8f427e81f31a</td>\n",
       "      <td>NaN</td>\n",
       "    </tr>\n",
       "    <tr>\n",
       "      <th>38</th>\n",
       "      <td>1bb7ca9c-c1ea-4054-93ee-44009e6cc119</td>\n",
       "      <td>NaN</td>\n",
       "    </tr>\n",
       "    <tr>\n",
       "      <th>39</th>\n",
       "      <td>20e75ed8-6388-4d51-87f6-eaf92eddca29</td>\n",
       "      <td>NaN</td>\n",
       "    </tr>\n",
       "    <tr>\n",
       "      <th>40</th>\n",
       "      <td>30b58949-65e7-425c-8fd6-ddf3f8e5e055</td>\n",
       "      <td>NaN</td>\n",
       "    </tr>\n",
       "    <tr>\n",
       "      <th>41</th>\n",
       "      <td>23423315-2a2d-412e-8c45-ed9cc8d589f6</td>\n",
       "      <td>NaN</td>\n",
       "    </tr>\n",
       "    <tr>\n",
       "      <th>42</th>\n",
       "      <td>2b76e6cb-fe51-40da-bfc6-54253dee41f6</td>\n",
       "      <td>NaN</td>\n",
       "    </tr>\n",
       "    <tr>\n",
       "      <th>43</th>\n",
       "      <td>23d304d3-1097-4687-b8c5-00eb8c2e35ad</td>\n",
       "      <td>NaN</td>\n",
       "    </tr>\n",
       "    <tr>\n",
       "      <th>44</th>\n",
       "      <td>01200366-f4e5-46c2-8b1d-1d27075231ce</td>\n",
       "      <td>NaN</td>\n",
       "    </tr>\n",
       "    <tr>\n",
       "      <th>45</th>\n",
       "      <td>c0c1e77e-5af0-4775-9136-342345d901de</td>\n",
       "      <td>NaN</td>\n",
       "    </tr>\n",
       "    <tr>\n",
       "      <th>46</th>\n",
       "      <td>131f718e-66b8-4094-a0fa-d34795732239</td>\n",
       "      <td>NaN</td>\n",
       "    </tr>\n",
       "    <tr>\n",
       "      <th>47</th>\n",
       "      <td>2b63addd-3dfc-4bba-b1e5-fa6e6e49996f</td>\n",
       "      <td>NaN</td>\n",
       "    </tr>\n",
       "    <tr>\n",
       "      <th>48</th>\n",
       "      <td>2815b7e6-1112-484b-b6ed-367c87e0e22a</td>\n",
       "      <td>NaN</td>\n",
       "    </tr>\n",
       "    <tr>\n",
       "      <th>49</th>\n",
       "      <td>2775f13e-cbd7-4216-b89f-4c74126af11b</td>\n",
       "      <td>NaN</td>\n",
       "    </tr>\n",
       "  </tbody>\n",
       "</table>\n",
       "</div>\n",
       "      <button class=\"colab-df-convert\" onclick=\"convertToInteractive('df-df30bd68-cd1c-4b13-ad67-799e3764cc01')\"\n",
       "              title=\"Convert this dataframe to an interactive table.\"\n",
       "              style=\"display:none;\">\n",
       "        \n",
       "  <svg xmlns=\"http://www.w3.org/2000/svg\" height=\"24px\"viewBox=\"0 0 24 24\"\n",
       "       width=\"24px\">\n",
       "    <path d=\"M0 0h24v24H0V0z\" fill=\"none\"/>\n",
       "    <path d=\"M18.56 5.44l.94 2.06.94-2.06 2.06-.94-2.06-.94-.94-2.06-.94 2.06-2.06.94zm-11 1L8.5 8.5l.94-2.06 2.06-.94-2.06-.94L8.5 2.5l-.94 2.06-2.06.94zm10 10l.94 2.06.94-2.06 2.06-.94-2.06-.94-.94-2.06-.94 2.06-2.06.94z\"/><path d=\"M17.41 7.96l-1.37-1.37c-.4-.4-.92-.59-1.43-.59-.52 0-1.04.2-1.43.59L10.3 9.45l-7.72 7.72c-.78.78-.78 2.05 0 2.83L4 21.41c.39.39.9.59 1.41.59.51 0 1.02-.2 1.41-.59l7.78-7.78 2.81-2.81c.8-.78.8-2.07 0-2.86zM5.41 20L4 18.59l7.72-7.72 1.47 1.35L5.41 20z\"/>\n",
       "  </svg>\n",
       "      </button>\n",
       "      \n",
       "  <style>\n",
       "    .colab-df-container {\n",
       "      display:flex;\n",
       "      flex-wrap:wrap;\n",
       "      gap: 12px;\n",
       "    }\n",
       "\n",
       "    .colab-df-convert {\n",
       "      background-color: #E8F0FE;\n",
       "      border: none;\n",
       "      border-radius: 50%;\n",
       "      cursor: pointer;\n",
       "      display: none;\n",
       "      fill: #1967D2;\n",
       "      height: 32px;\n",
       "      padding: 0 0 0 0;\n",
       "      width: 32px;\n",
       "    }\n",
       "\n",
       "    .colab-df-convert:hover {\n",
       "      background-color: #E2EBFA;\n",
       "      box-shadow: 0px 1px 2px rgba(60, 64, 67, 0.3), 0px 1px 3px 1px rgba(60, 64, 67, 0.15);\n",
       "      fill: #174EA6;\n",
       "    }\n",
       "\n",
       "    [theme=dark] .colab-df-convert {\n",
       "      background-color: #3B4455;\n",
       "      fill: #D2E3FC;\n",
       "    }\n",
       "\n",
       "    [theme=dark] .colab-df-convert:hover {\n",
       "      background-color: #434B5C;\n",
       "      box-shadow: 0px 1px 3px 1px rgba(0, 0, 0, 0.15);\n",
       "      filter: drop-shadow(0px 1px 2px rgba(0, 0, 0, 0.3));\n",
       "      fill: #FFFFFF;\n",
       "    }\n",
       "  </style>\n",
       "\n",
       "      <script>\n",
       "        const buttonEl =\n",
       "          document.querySelector('#df-df30bd68-cd1c-4b13-ad67-799e3764cc01 button.colab-df-convert');\n",
       "        buttonEl.style.display =\n",
       "          google.colab.kernel.accessAllowed ? 'block' : 'none';\n",
       "\n",
       "        async function convertToInteractive(key) {\n",
       "          const element = document.querySelector('#df-df30bd68-cd1c-4b13-ad67-799e3764cc01');\n",
       "          const dataTable =\n",
       "            await google.colab.kernel.invokeFunction('convertToInteractive',\n",
       "                                                     [key], {});\n",
       "          if (!dataTable) return;\n",
       "\n",
       "          const docLinkHtml = 'Like what you see? Visit the ' +\n",
       "            '<a target=\"_blank\" href=https://colab.research.google.com/notebooks/data_table.ipynb>data table notebook</a>'\n",
       "            + ' to learn more about interactive tables.';\n",
       "          element.innerHTML = '';\n",
       "          dataTable['output_type'] = 'display_data';\n",
       "          await google.colab.output.renderOutput(dataTable, element);\n",
       "          const docLink = document.createElement('div');\n",
       "          docLink.innerHTML = docLinkHtml;\n",
       "          element.appendChild(docLink);\n",
       "        }\n",
       "      </script>\n",
       "    </div>\n",
       "  </div>\n",
       "  "
      ],
      "text/plain": [
       "                                      id            pred_string\n",
       "0   21cfe0df-22f3-44c5-98d1-3f807433d26b                    NaN\n",
       "1   2c803f00-663c-483e-beee-4b8f1f710f9b                    NaN\n",
       "2   0de14fa9-8f75-4e50-abda-1e5414b06e0d                    NaN\n",
       "3   2eda18e3-c271-4085-a599-92dda93b2b1f                    NaN\n",
       "4   0ec5b804-19f7-4c99-a8a1-feb091908447                    NaN\n",
       "5   0f162616-cc4a-46fe-a7a9-3637fa8889f5                    NaN\n",
       "6   2c4d9d50-bb03-4d73-b972-4f9ca8b90661                    NaN\n",
       "7   1a4d2d2f-34c8-42cb-a432-9c46bb7a8988                    NaN\n",
       "8   2ffcb353-6d57-4242-bd0f-7840d55a8906                    NaN\n",
       "9   211b7ec9-80a6-466d-961c-66bcad202137                    NaN\n",
       "10  108adcb0-0301-4db1-ac26-3c38e8fd388a   0.99 614 374 262 362\n",
       "11  24a968f6-bd26-4ef1-90b7-ca75df777e56                    NaN\n",
       "12  1a65e7f7-d13e-4dda-b680-be66a4db6a2a                    NaN\n",
       "13  2b2a11b2-12b5-48ce-9b3b-39c91f8a691d                    NaN\n",
       "14  2c5ecaa4-5235-43e9-8a7f-83b4f62e683a                    NaN\n",
       "15  010355fd-a8c0-4503-993e-16412a3b8136                    NaN\n",
       "16  2ee5e42f-f14c-4af2-b04d-631c27674dae                    NaN\n",
       "17  207108d9-45b6-42a0-a967-d15cc7c3bf73                    NaN\n",
       "18  1fcbe192-08ca-4ec9-b80a-fbde810c24a8                    NaN\n",
       "19  2b111931-60e8-4281-8f76-a7181ae96837                    NaN\n",
       "20  1307e549-4650-408e-b731-9a8b07b8087d                    NaN\n",
       "21  0076e68b-90cf-45da-a839-e67d3131182b                    NaN\n",
       "22  1eb1be4c-db1d-4b3a-80f1-e80a65a177b7                    NaN\n",
       "23  29048813-5b20-4aba-bfcb-8eed053e3e53                    NaN\n",
       "24  30b8ba34-b0b3-4def-8b28-a169221d755c                    NaN\n",
       "25  230a141e-7c8f-4afb-bda0-a54d08baeb16                    NaN\n",
       "26  257e34f1-f461-45fd-ab15-ec4cbfada52a                    NaN\n",
       "27  1eca6e1f-ed7f-4acd-bafe-732ca767832d                    NaN\n",
       "28  1b157958-b600-4aa7-98d6-f711a333d3f7                    NaN\n",
       "29  1f12de2d-3ab9-42d1-b68c-1d9af65c3e76                    NaN\n",
       "30  c031834b-2296-4991-ac96-8495ee9a1231                    NaN\n",
       "31  037ed56b-77ae-4084-a0d3-26be1d8a46dd                    NaN\n",
       "32  23f2d686-d5a9-4ce2-89b4-c0c3914fe3fd                    NaN\n",
       "33  1ec51b9a-c8bf-42ee-af6b-26081365724a                    NaN\n",
       "34  231abfb6-8c40-43dd-923a-ee88d540ef50                    NaN\n",
       "35  0fb8908c-5485-472a-bffc-08a7f42c18ca                    NaN\n",
       "36  2ff722c0-839c-4a62-b695-503f776f205e                    NaN\n",
       "37  2d15cca5-bd2a-433e-9dd4-8f427e81f31a                    NaN\n",
       "38  1bb7ca9c-c1ea-4054-93ee-44009e6cc119                    NaN\n",
       "39  20e75ed8-6388-4d51-87f6-eaf92eddca29                    NaN\n",
       "40  30b58949-65e7-425c-8fd6-ddf3f8e5e055                    NaN\n",
       "41  23423315-2a2d-412e-8c45-ed9cc8d589f6                    NaN\n",
       "42  2b76e6cb-fe51-40da-bfc6-54253dee41f6                    NaN\n",
       "43  23d304d3-1097-4687-b8c5-00eb8c2e35ad                    NaN\n",
       "44  01200366-f4e5-46c2-8b1d-1d27075231ce                    NaN\n",
       "45  c0c1e77e-5af0-4775-9136-342345d901de                    NaN\n",
       "46  131f718e-66b8-4094-a0fa-d34795732239                    NaN\n",
       "47  2b63addd-3dfc-4bba-b1e5-fa6e6e49996f                    NaN\n",
       "48  2815b7e6-1112-484b-b6ed-367c87e0e22a                    NaN\n",
       "49  2775f13e-cbd7-4216-b89f-4c74126af11b                    NaN"
      ]
     },
     "execution_count": 63,
     "metadata": {},
     "output_type": "execute_result"
    }
   ],
   "source": [
    "output = pd.read_csv(sample_submission_fp, names=['id', 'pred_string'])\n",
    "output.head(50)"
   ]
  }
 ],
 "metadata": {
  "colab": {
   "collapsed_sections": [],
   "name": "rsna_pneumonia_detection.ipynb",
   "provenance": []
  },
  "kernelspec": {
   "display_name": "Python 3",
   "language": "python",
   "name": "python3"
  }
 },
 "nbformat": 4,
 "nbformat_minor": 0
}
